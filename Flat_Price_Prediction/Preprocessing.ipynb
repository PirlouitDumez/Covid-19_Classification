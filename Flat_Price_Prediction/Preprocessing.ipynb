{
 "cells": [
  {
   "cell_type": "markdown",
   "metadata": {},
   "source": [
    "# PREPROCESSING"
   ]
  },
  {
   "cell_type": "code",
   "execution_count": 32,
   "metadata": {},
   "outputs": [
    {
     "name": "stderr",
     "output_type": "stream",
     "text": [
      "C:\\Users\\Pirlouit\\anaconda3\\lib\\site-packages\\IPython\\core\\interactiveshell.py:3146: DtypeWarning: Columns (14,18,23,24,26,28,31,33,41) have mixed types.Specify dtype option on import or set low_memory=False.\n",
      "  has_raised = await self.run_ast_nodes(code_ast.body, cell_name,\n",
      "C:\\Users\\Pirlouit\\anaconda3\\lib\\site-packages\\IPython\\core\\interactiveshell.py:3146: DtypeWarning: Columns (18,23,24,26,28,31,33,41) have mixed types.Specify dtype option on import or set low_memory=False.\n",
      "  has_raised = await self.run_ast_nodes(code_ast.body, cell_name,\n",
      "C:\\Users\\Pirlouit\\anaconda3\\lib\\site-packages\\IPython\\core\\interactiveshell.py:3146: DtypeWarning: Columns (18,23,24,26,28,29,31,32,33,41) have mixed types.Specify dtype option on import or set low_memory=False.\n",
      "  has_raised = await self.run_ast_nodes(code_ast.body, cell_name,\n"
     ]
    }
   ],
   "source": [
    "import pandas as pd\n",
    "import matplotlib.pyplot as plt\n",
    "import seaborn as sns\n",
    "import numpy as np\n",
    "#\n",
    "data_2020 = pd.read_csv('valeursfoncieres-2020.txt',sep='|')\n",
    "\n",
    "data_2019 = pd.read_csv('valeursfoncieres-2019.txt',sep='|')\n",
    "data_2018 = pd.read_csv('valeursfoncieres-2018.txt',sep='|')\n",
    "data_2017 = pd.read_csv('valeursfoncieres-2017.txt',sep='|')\n"
   ]
  },
  {
   "cell_type": "code",
   "execution_count": 33,
   "metadata": {},
   "outputs": [],
   "source": [
    "df_2020 = data_2020.copy()\n",
    "df_2019 = data_2019.copy()\n",
    "df_2018 = data_2018.copy()\n",
    "df_2017 = data_2017.copy()\n"
   ]
  },
  {
   "cell_type": "code",
   "execution_count": 34,
   "metadata": {},
   "outputs": [],
   "source": [
    "df = pd.concat([df_2017,df_2018,df_2019,df_2020],axis=0)"
   ]
  },
  {
   "cell_type": "code",
   "execution_count": 35,
   "metadata": {},
   "outputs": [
    {
     "data": {
      "text/plain": [
       "(12314471, 43)"
      ]
     },
     "execution_count": 35,
     "metadata": {},
     "output_type": "execute_result"
    }
   ],
   "source": [
    "df.shape"
   ]
  },
  {
   "cell_type": "code",
   "execution_count": null,
   "metadata": {},
   "outputs": [],
   "source": [
    "\n"
   ]
  },
  {
   "cell_type": "code",
   "execution_count": null,
   "metadata": {},
   "outputs": [],
   "source": []
  },
  {
   "cell_type": "code",
   "execution_count": 36,
   "metadata": {},
   "outputs": [],
   "source": [
    "def feature_selection(df): #on regroupe toutes les modifications qu'on fait sur le dataset dans une fonction preprocessing \n",
    "   # df = df[df['Commune']=='LILLE'] #on ne garde que les valeurs pour Lille ici\n",
    "    df = df[df['Code departement']==59]\n",
    "\n",
    "    df = df[df['Nature mutation']=='Vente']\n",
    "    df = df[df['Nature mutation'].isna()==False] #on ne garde que les mutations de type vente ou vente en l'état futur d'achevement\n",
    "    df = df[df['Surface reelle bati'].isna()==False] \n",
    "    df = df[df['Surface reelle bati']!=0] #on supprime les colonnes ou la surface bati est 0\n",
    "    df = df[df['Surface terrain']!=0] #on supprime les colonnes ou la surface bati est 0\n",
    "    df = df[df['Nombre pieces principales'].isna()==False] \n",
    "    df = df[df['Type local'].isna()==False] \n",
    "    df = df[df['Type de voie'].isna()==False] \n",
    "    df = df[df['Valeur fonciere'].isna()==False] \n",
    "    df = df[df['Nombre de lots']<2]\n",
    "    df = df.drop('Surface Carrez du 1er lot',axis=1)\n",
    "    df = df.drop('Surface terrain',axis=1)\n",
    "    df = df.drop('Nature culture',axis=1)\n",
    "    df = df.drop('1er lot',axis=1)\n",
    "    df = df.drop('No disposition',axis=1)\n",
    "\n",
    "\n",
    "\n",
    "\n",
    "        \n",
    "    df = df[df['Surface reelle bati']<320]\n",
    "    df = df[df['Type local']!='Local industriel. commercial ou assimilé']\n",
    "    df = df[df['Type local']!='Maison'] #on ne garde que les appartements pour finir\n",
    "    df = df[df.columns[(df.isna().sum()/df.shape[0] < 0.80)]] #on supprime les colonnes qui ont plus de 80% de manquants\n",
    "    df = df.dropna(axis=0)\n",
    "    df['Valeur fonciere'] = df['Valeur fonciere'].str.replace(',','.')\n",
    "    df['Valeur fonciere']=pd.to_numeric(df['Valeur fonciere'], errors='coerce')    \n",
    "    df = df[df['Valeur fonciere']<1000000] #on supprime les biens dont la valeur est supérieure à 1 millions (outliers)\n",
    "    df = df[df['Valeur fonciere']>100000] #on supprime les biens dont la valeur est inferieure a 100k (outliers)\n",
    "    df = df.drop('No voie',axis=1) #numero de la maison inutile pour faire une prediction cela pourrait fausser le modele\n",
    "    df = df.drop('Code departement',axis=1) #tous dans le même departement pour l'instant donc inutile, a voir pour la suite\n",
    "    #on va provisoirement dropper les donnees en dessous, on va les encoder par la suite\n",
    "   # df = df.drop('Commune',axis=1) #pareil, pour l'instant on travaille que sur Lille\n",
    "    df = df.drop('Code commune',axis=1) #plusieurs villes avec le meme code commune, on va encoder nous-mêmes les villes\n",
    "    df = df.drop('Type local',axis=1) #pas besoin car on a seulement gardé les appartements\n",
    "    df = df.drop('Code type local',axis=1) \n",
    "    df = df.drop('Nature mutation',axis=1) #pareil, on a seulement gardé les type 'Vente'\n",
    "    df = df.drop('Nombre de lots',axis=1) #on a garde seulement nombre de lots égal à 0 ou 1 donc pas besoin de cette variable\n",
    "  #  df = df.drop('Voie',axis=1) #il faut encoder cette valeur pour l'utiliser (cest le nom de la rue donc tres important)\n",
    "\n",
    "    \n",
    "    df = df.drop('Section',axis=1) #pas pratique pour l'utilisateur de devoir entrer la section mais important pour localiser l'appart\n",
    "  #  df = df.drop('Type de voie',axis=1) \n",
    "    df = df.drop('No plan',axis=1)\n",
    "    \n",
    "    df = df.drop('Code voie',axis=1) #on a deja la variable Voie\n",
    "   # df = df.drop('Date mutation',axis=1) \n",
    "    return df\n",
    "    \n",
    "df = feature_selection(df)"
   ]
  },
  {
   "cell_type": "code",
   "execution_count": 37,
   "metadata": {},
   "outputs": [
    {
     "data": {
      "text/plain": [
       "(27979, 8)"
      ]
     },
     "execution_count": 37,
     "metadata": {},
     "output_type": "execute_result"
    }
   ],
   "source": [
    "\n",
    "df.shape "
   ]
  },
  {
   "cell_type": "code",
   "execution_count": null,
   "metadata": {},
   "outputs": [],
   "source": [
    "[df['Commune_0'].value_counts()]"
   ]
  },
  {
   "cell_type": "code",
   "execution_count": 13,
   "metadata": {},
   "outputs": [
    {
     "data": {
      "text/plain": [
       "<AxesSubplot:xlabel='Type de voie', ylabel='Valeur fonciere'>"
      ]
     },
     "execution_count": 13,
     "metadata": {},
     "output_type": "execute_result"
    },
    {
     "data": {
      "image/png": "[encoded data removed]",
      "text/plain": [
       "<Figure size 432x288 with 1 Axes>"
      ]
     },
     "metadata": {
      "needs_background": "light"
     },
     "output_type": "display_data"
    }
   ],
   "source": [
    "sns.boxplot(x=\"Type de voie\", y=\"Valeur fonciere\", data=df)\n"
   ]
  },
  {
   "cell_type": "code",
   "execution_count": 14,
   "metadata": {},
   "outputs": [
    {
     "data": {
      "text/plain": [
       "21/12/2018    237\n",
       "28/12/2018    112\n",
       "29/03/2019    105\n",
       "27/09/2019     85\n",
       "30/09/2019     82\n",
       "             ... \n",
       "13/10/2018      1\n",
       "05/05/2018      1\n",
       "15/06/2019      1\n",
       "12/10/2019      1\n",
       "23/02/2019      1\n",
       "Name: Date mutation, Length: 559, dtype: int64"
      ]
     },
     "execution_count": 14,
     "metadata": {},
     "output_type": "execute_result"
    }
   ],
   "source": [
    "df['Date mutation'].value_counts()"
   ]
  },
  {
   "cell_type": "markdown",
   "metadata": {},
   "source": [
    "# On va encoder nos données    "
   ]
  },
  {
   "cell_type": "code",
   "execution_count": 717,
   "metadata": {},
   "outputs": [],
   "source": [
    "# D'abord on va ajouter dans la colonne Voie le nom de la ville pour ne pas avoir le même encodage\n",
    "# pour deux rues du meme noms dans deux villes differentes"
   ]
  },
  {
   "cell_type": "code",
   "execution_count": 38,
   "metadata": {},
   "outputs": [
    {
     "data": {
      "text/plain": [
       "1909144      NICOLAS LEBLANC_LILLE\n",
       "1909164           DU MAGASIN_LILLE\n",
       "1909171     FAIDHERBE_LA MADELEINE\n",
       "1909173    DE FLANDRE_LA MADELEINE\n",
       "1909175      DU PEUPLE BELGE_LILLE\n",
       "                    ...           \n",
       "1453511       PASTEUR_VALENCIENNES\n",
       "1453512       PASTEUR_VALENCIENNES\n",
       "1453513       PASTEUR_VALENCIENNES\n",
       "1453514       PASTEUR_VALENCIENNES\n",
       "1453515       PASTEUR_VALENCIENNES\n",
       "Name: Voie, Length: 27979, dtype: object"
      ]
     },
     "execution_count": 38,
     "metadata": {},
     "output_type": "execute_result"
    }
   ],
   "source": [
    "df['Voie'] = df['Voie']+'_'+df['Commune']\n",
    "df['Voie']"
   ]
  },
  {
   "cell_type": "code",
   "execution_count": 581,
   "metadata": {},
   "outputs": [
    {
     "data": {
      "text/html": [
       "<div>\n",
       "<style scoped>\n",
       "    .dataframe tbody tr th:only-of-type {\n",
       "        vertical-align: middle;\n",
       "    }\n",
       "\n",
       "    .dataframe tbody tr th {\n",
       "        vertical-align: top;\n",
       "    }\n",
       "\n",
       "    .dataframe thead th {\n",
       "        text-align: right;\n",
       "    }\n",
       "</style>\n",
       "<table border=\"1\" class=\"dataframe\">\n",
       "  <thead>\n",
       "    <tr style=\"text-align: right;\">\n",
       "      <th></th>\n",
       "      <th>Date mutation</th>\n",
       "      <th>Valeur fonciere</th>\n",
       "      <th>Type de voie</th>\n",
       "      <th>Code postal</th>\n",
       "      <th>Commune</th>\n",
       "      <th>Surface reelle bati</th>\n",
       "      <th>Nombre pieces principales</th>\n",
       "      <th>Voie_0</th>\n",
       "      <th>Voie_1</th>\n",
       "      <th>Voie_2</th>\n",
       "      <th>...</th>\n",
       "      <th>Voie_1742</th>\n",
       "      <th>Voie_1743</th>\n",
       "      <th>Voie_1744</th>\n",
       "      <th>Voie_1745</th>\n",
       "      <th>Voie_1746</th>\n",
       "      <th>Voie_1747</th>\n",
       "      <th>Voie_1748</th>\n",
       "      <th>Voie_1749</th>\n",
       "      <th>Voie_1750</th>\n",
       "      <th>Voie_1751</th>\n",
       "    </tr>\n",
       "  </thead>\n",
       "  <tbody>\n",
       "    <tr>\n",
       "      <th>0</th>\n",
       "      <td>02/01/2018</td>\n",
       "      <td>167900.0</td>\n",
       "      <td>RUE</td>\n",
       "      <td>59000.0</td>\n",
       "      <td>LILLE</td>\n",
       "      <td>54.0</td>\n",
       "      <td>2.0</td>\n",
       "      <td>0.0</td>\n",
       "      <td>0.0</td>\n",
       "      <td>0.0</td>\n",
       "      <td>...</td>\n",
       "      <td>0.0</td>\n",
       "      <td>0.0</td>\n",
       "      <td>0.0</td>\n",
       "      <td>0.0</td>\n",
       "      <td>0.0</td>\n",
       "      <td>0.0</td>\n",
       "      <td>0.0</td>\n",
       "      <td>0.0</td>\n",
       "      <td>0.0</td>\n",
       "      <td>0.0</td>\n",
       "    </tr>\n",
       "    <tr>\n",
       "      <th>1</th>\n",
       "      <td>03/01/2018</td>\n",
       "      <td>121240.0</td>\n",
       "      <td>AV</td>\n",
       "      <td>59110.0</td>\n",
       "      <td>LA MADELEINE</td>\n",
       "      <td>47.0</td>\n",
       "      <td>2.0</td>\n",
       "      <td>0.0</td>\n",
       "      <td>0.0</td>\n",
       "      <td>0.0</td>\n",
       "      <td>...</td>\n",
       "      <td>0.0</td>\n",
       "      <td>0.0</td>\n",
       "      <td>0.0</td>\n",
       "      <td>0.0</td>\n",
       "      <td>0.0</td>\n",
       "      <td>0.0</td>\n",
       "      <td>0.0</td>\n",
       "      <td>0.0</td>\n",
       "      <td>0.0</td>\n",
       "      <td>0.0</td>\n",
       "    </tr>\n",
       "    <tr>\n",
       "      <th>2</th>\n",
       "      <td>05/01/2018</td>\n",
       "      <td>173800.0</td>\n",
       "      <td>RUE</td>\n",
       "      <td>59110.0</td>\n",
       "      <td>LA MADELEINE</td>\n",
       "      <td>50.0</td>\n",
       "      <td>2.0</td>\n",
       "      <td>0.0</td>\n",
       "      <td>0.0</td>\n",
       "      <td>0.0</td>\n",
       "      <td>...</td>\n",
       "      <td>0.0</td>\n",
       "      <td>0.0</td>\n",
       "      <td>0.0</td>\n",
       "      <td>0.0</td>\n",
       "      <td>0.0</td>\n",
       "      <td>0.0</td>\n",
       "      <td>0.0</td>\n",
       "      <td>0.0</td>\n",
       "      <td>0.0</td>\n",
       "      <td>0.0</td>\n",
       "    </tr>\n",
       "    <tr>\n",
       "      <th>3</th>\n",
       "      <td>02/01/2018</td>\n",
       "      <td>167500.0</td>\n",
       "      <td>RUE</td>\n",
       "      <td>59260.0</td>\n",
       "      <td>LILLE</td>\n",
       "      <td>55.0</td>\n",
       "      <td>3.0</td>\n",
       "      <td>0.0</td>\n",
       "      <td>0.0</td>\n",
       "      <td>0.0</td>\n",
       "      <td>...</td>\n",
       "      <td>0.0</td>\n",
       "      <td>0.0</td>\n",
       "      <td>0.0</td>\n",
       "      <td>0.0</td>\n",
       "      <td>0.0</td>\n",
       "      <td>0.0</td>\n",
       "      <td>0.0</td>\n",
       "      <td>0.0</td>\n",
       "      <td>0.0</td>\n",
       "      <td>0.0</td>\n",
       "    </tr>\n",
       "    <tr>\n",
       "      <th>4</th>\n",
       "      <td>02/01/2018</td>\n",
       "      <td>167500.0</td>\n",
       "      <td>RUE</td>\n",
       "      <td>59260.0</td>\n",
       "      <td>LILLE</td>\n",
       "      <td>20.0</td>\n",
       "      <td>1.0</td>\n",
       "      <td>0.0</td>\n",
       "      <td>0.0</td>\n",
       "      <td>0.0</td>\n",
       "      <td>...</td>\n",
       "      <td>0.0</td>\n",
       "      <td>0.0</td>\n",
       "      <td>0.0</td>\n",
       "      <td>0.0</td>\n",
       "      <td>0.0</td>\n",
       "      <td>0.0</td>\n",
       "      <td>0.0</td>\n",
       "      <td>0.0</td>\n",
       "      <td>0.0</td>\n",
       "      <td>0.0</td>\n",
       "    </tr>\n",
       "    <tr>\n",
       "      <th>...</th>\n",
       "      <td>...</td>\n",
       "      <td>...</td>\n",
       "      <td>...</td>\n",
       "      <td>...</td>\n",
       "      <td>...</td>\n",
       "      <td>...</td>\n",
       "      <td>...</td>\n",
       "      <td>...</td>\n",
       "      <td>...</td>\n",
       "      <td>...</td>\n",
       "      <td>...</td>\n",
       "      <td>...</td>\n",
       "      <td>...</td>\n",
       "      <td>...</td>\n",
       "      <td>...</td>\n",
       "      <td>...</td>\n",
       "      <td>...</td>\n",
       "      <td>...</td>\n",
       "      <td>...</td>\n",
       "      <td>...</td>\n",
       "      <td>...</td>\n",
       "    </tr>\n",
       "    <tr>\n",
       "      <th>14346</th>\n",
       "      <td>20/12/2019</td>\n",
       "      <td>220000.0</td>\n",
       "      <td>RUE</td>\n",
       "      <td>59300.0</td>\n",
       "      <td>VALENCIENNES</td>\n",
       "      <td>17.0</td>\n",
       "      <td>1.0</td>\n",
       "      <td>0.0</td>\n",
       "      <td>0.0</td>\n",
       "      <td>0.0</td>\n",
       "      <td>...</td>\n",
       "      <td>0.0</td>\n",
       "      <td>0.0</td>\n",
       "      <td>0.0</td>\n",
       "      <td>0.0</td>\n",
       "      <td>0.0</td>\n",
       "      <td>0.0</td>\n",
       "      <td>0.0</td>\n",
       "      <td>0.0</td>\n",
       "      <td>0.0</td>\n",
       "      <td>0.0</td>\n",
       "    </tr>\n",
       "    <tr>\n",
       "      <th>14347</th>\n",
       "      <td>20/12/2019</td>\n",
       "      <td>220000.0</td>\n",
       "      <td>RUE</td>\n",
       "      <td>59300.0</td>\n",
       "      <td>VALENCIENNES</td>\n",
       "      <td>18.0</td>\n",
       "      <td>1.0</td>\n",
       "      <td>0.0</td>\n",
       "      <td>0.0</td>\n",
       "      <td>0.0</td>\n",
       "      <td>...</td>\n",
       "      <td>0.0</td>\n",
       "      <td>0.0</td>\n",
       "      <td>0.0</td>\n",
       "      <td>0.0</td>\n",
       "      <td>0.0</td>\n",
       "      <td>0.0</td>\n",
       "      <td>0.0</td>\n",
       "      <td>0.0</td>\n",
       "      <td>0.0</td>\n",
       "      <td>0.0</td>\n",
       "    </tr>\n",
       "    <tr>\n",
       "      <th>14348</th>\n",
       "      <td>20/12/2019</td>\n",
       "      <td>319000.0</td>\n",
       "      <td>RUE</td>\n",
       "      <td>59300.0</td>\n",
       "      <td>VALENCIENNES</td>\n",
       "      <td>74.0</td>\n",
       "      <td>3.0</td>\n",
       "      <td>0.0</td>\n",
       "      <td>0.0</td>\n",
       "      <td>0.0</td>\n",
       "      <td>...</td>\n",
       "      <td>0.0</td>\n",
       "      <td>0.0</td>\n",
       "      <td>0.0</td>\n",
       "      <td>0.0</td>\n",
       "      <td>0.0</td>\n",
       "      <td>0.0</td>\n",
       "      <td>0.0</td>\n",
       "      <td>0.0</td>\n",
       "      <td>0.0</td>\n",
       "      <td>0.0</td>\n",
       "    </tr>\n",
       "    <tr>\n",
       "      <th>14349</th>\n",
       "      <td>20/12/2019</td>\n",
       "      <td>319000.0</td>\n",
       "      <td>RUE</td>\n",
       "      <td>59300.0</td>\n",
       "      <td>VALENCIENNES</td>\n",
       "      <td>49.0</td>\n",
       "      <td>2.0</td>\n",
       "      <td>0.0</td>\n",
       "      <td>0.0</td>\n",
       "      <td>0.0</td>\n",
       "      <td>...</td>\n",
       "      <td>0.0</td>\n",
       "      <td>0.0</td>\n",
       "      <td>0.0</td>\n",
       "      <td>0.0</td>\n",
       "      <td>0.0</td>\n",
       "      <td>0.0</td>\n",
       "      <td>0.0</td>\n",
       "      <td>0.0</td>\n",
       "      <td>0.0</td>\n",
       "      <td>0.0</td>\n",
       "    </tr>\n",
       "    <tr>\n",
       "      <th>14350</th>\n",
       "      <td>30/12/2019</td>\n",
       "      <td>154700.0</td>\n",
       "      <td>PL</td>\n",
       "      <td>59300.0</td>\n",
       "      <td>VALENCIENNES</td>\n",
       "      <td>44.0</td>\n",
       "      <td>2.0</td>\n",
       "      <td>0.0</td>\n",
       "      <td>0.0</td>\n",
       "      <td>0.0</td>\n",
       "      <td>...</td>\n",
       "      <td>0.0</td>\n",
       "      <td>0.0</td>\n",
       "      <td>0.0</td>\n",
       "      <td>0.0</td>\n",
       "      <td>0.0</td>\n",
       "      <td>0.0</td>\n",
       "      <td>0.0</td>\n",
       "      <td>0.0</td>\n",
       "      <td>0.0</td>\n",
       "      <td>0.0</td>\n",
       "    </tr>\n",
       "  </tbody>\n",
       "</table>\n",
       "<p>14351 rows × 1759 columns</p>\n",
       "</div>"
      ],
      "text/plain": [
       "      Date mutation  Valeur fonciere Type de voie  Code postal       Commune  \\\n",
       "0        02/01/2018         167900.0          RUE      59000.0         LILLE   \n",
       "1        03/01/2018         121240.0           AV      59110.0  LA MADELEINE   \n",
       "2        05/01/2018         173800.0          RUE      59110.0  LA MADELEINE   \n",
       "3        02/01/2018         167500.0          RUE      59260.0         LILLE   \n",
       "4        02/01/2018         167500.0          RUE      59260.0         LILLE   \n",
       "...             ...              ...          ...          ...           ...   \n",
       "14346    20/12/2019         220000.0          RUE      59300.0  VALENCIENNES   \n",
       "14347    20/12/2019         220000.0          RUE      59300.0  VALENCIENNES   \n",
       "14348    20/12/2019         319000.0          RUE      59300.0  VALENCIENNES   \n",
       "14349    20/12/2019         319000.0          RUE      59300.0  VALENCIENNES   \n",
       "14350    30/12/2019         154700.0           PL      59300.0  VALENCIENNES   \n",
       "\n",
       "       Surface reelle bati  Nombre pieces principales  Voie_0  Voie_1  Voie_2  \\\n",
       "0                     54.0                        2.0     0.0     0.0     0.0   \n",
       "1                     47.0                        2.0     0.0     0.0     0.0   \n",
       "2                     50.0                        2.0     0.0     0.0     0.0   \n",
       "3                     55.0                        3.0     0.0     0.0     0.0   \n",
       "4                     20.0                        1.0     0.0     0.0     0.0   \n",
       "...                    ...                        ...     ...     ...     ...   \n",
       "14346                 17.0                        1.0     0.0     0.0     0.0   \n",
       "14347                 18.0                        1.0     0.0     0.0     0.0   \n",
       "14348                 74.0                        3.0     0.0     0.0     0.0   \n",
       "14349                 49.0                        2.0     0.0     0.0     0.0   \n",
       "14350                 44.0                        2.0     0.0     0.0     0.0   \n",
       "\n",
       "       ...  Voie_1742  Voie_1743  Voie_1744  Voie_1745  Voie_1746  Voie_1747  \\\n",
       "0      ...        0.0        0.0        0.0        0.0        0.0        0.0   \n",
       "1      ...        0.0        0.0        0.0        0.0        0.0        0.0   \n",
       "2      ...        0.0        0.0        0.0        0.0        0.0        0.0   \n",
       "3      ...        0.0        0.0        0.0        0.0        0.0        0.0   \n",
       "4      ...        0.0        0.0        0.0        0.0        0.0        0.0   \n",
       "...    ...        ...        ...        ...        ...        ...        ...   \n",
       "14346  ...        0.0        0.0        0.0        0.0        0.0        0.0   \n",
       "14347  ...        0.0        0.0        0.0        0.0        0.0        0.0   \n",
       "14348  ...        0.0        0.0        0.0        0.0        0.0        0.0   \n",
       "14349  ...        0.0        0.0        0.0        0.0        0.0        0.0   \n",
       "14350  ...        0.0        0.0        0.0        0.0        0.0        0.0   \n",
       "\n",
       "       Voie_1748  Voie_1749  Voie_1750  Voie_1751  \n",
       "0            0.0        0.0        0.0        0.0  \n",
       "1            0.0        0.0        0.0        0.0  \n",
       "2            0.0        0.0        0.0        0.0  \n",
       "3            0.0        0.0        0.0        0.0  \n",
       "4            0.0        0.0        0.0        0.0  \n",
       "...          ...        ...        ...        ...  \n",
       "14346        0.0        0.0        0.0        0.0  \n",
       "14347        0.0        0.0        0.0        0.0  \n",
       "14348        0.0        0.0        0.0        0.0  \n",
       "14349        0.0        0.0        0.0        0.0  \n",
       "14350        0.0        0.0        0.0        0.0  \n",
       "\n",
       "[14351 rows x 1759 columns]"
      ]
     },
     "execution_count": 581,
     "metadata": {},
     "output_type": "execute_result"
    }
   ],
   "source": [
    "from sklearn.preprocessing import OneHotEncoder, OrdinalEncoder\n",
    "onehotencoder = OneHotEncoder(sparse=False)\n",
    "\n",
    "#encodage onehot sur les voies\n",
    "encoded = onehotencoder.fit_transform(df['Voie'].values.reshape(df['Voie'].shape[0],1))\n",
    "encoded_df = pd.DataFrame(encoded,columns = ['Voie_' + str(int(i)) for i in range(encoded.shape[1])] ) \n",
    "df=df.reset_index(drop=True)\n",
    "df = pd.concat([df,encoded_df],axis=1)\n",
    "df = df.drop('Voie',axis=1) \n",
    "df\n",
    "#il faut reindexer les elements de df de 0 a 2626 "
   ]
  },
  {
   "cell_type": "code",
   "execution_count": 39,
   "metadata": {},
   "outputs": [
    {
     "data": {
      "text/html": [
       "<div>\n",
       "<style scoped>\n",
       "    .dataframe tbody tr th:only-of-type {\n",
       "        vertical-align: middle;\n",
       "    }\n",
       "\n",
       "    .dataframe tbody tr th {\n",
       "        vertical-align: top;\n",
       "    }\n",
       "\n",
       "    .dataframe thead th {\n",
       "        text-align: right;\n",
       "    }\n",
       "</style>\n",
       "<table border=\"1\" class=\"dataframe\">\n",
       "  <thead>\n",
       "    <tr style=\"text-align: right;\">\n",
       "      <th></th>\n",
       "      <th>Date mutation</th>\n",
       "      <th>Valeur fonciere</th>\n",
       "      <th>Type de voie</th>\n",
       "      <th>Code postal</th>\n",
       "      <th>Commune</th>\n",
       "      <th>Surface reelle bati</th>\n",
       "      <th>Nombre pieces principales</th>\n",
       "      <th>Voie_0</th>\n",
       "    </tr>\n",
       "  </thead>\n",
       "  <tbody>\n",
       "    <tr>\n",
       "      <th>0</th>\n",
       "      <td>05/01/2017</td>\n",
       "      <td>170200.0</td>\n",
       "      <td>RUE</td>\n",
       "      <td>59000.0</td>\n",
       "      <td>LILLE</td>\n",
       "      <td>49.0</td>\n",
       "      <td>2.0</td>\n",
       "      <td>2926.0</td>\n",
       "    </tr>\n",
       "    <tr>\n",
       "      <th>1</th>\n",
       "      <td>12/01/2017</td>\n",
       "      <td>219500.0</td>\n",
       "      <td>RUE</td>\n",
       "      <td>59800.0</td>\n",
       "      <td>LILLE</td>\n",
       "      <td>84.0</td>\n",
       "      <td>3.0</td>\n",
       "      <td>1774.0</td>\n",
       "    </tr>\n",
       "    <tr>\n",
       "      <th>2</th>\n",
       "      <td>05/01/2017</td>\n",
       "      <td>115000.0</td>\n",
       "      <td>RUE</td>\n",
       "      <td>59110.0</td>\n",
       "      <td>LA MADELEINE</td>\n",
       "      <td>49.0</td>\n",
       "      <td>2.0</td>\n",
       "      <td>2083.0</td>\n",
       "    </tr>\n",
       "    <tr>\n",
       "      <th>3</th>\n",
       "      <td>05/01/2017</td>\n",
       "      <td>135000.0</td>\n",
       "      <td>RUE</td>\n",
       "      <td>59110.0</td>\n",
       "      <td>LA MADELEINE</td>\n",
       "      <td>88.0</td>\n",
       "      <td>4.0</td>\n",
       "      <td>565.0</td>\n",
       "    </tr>\n",
       "    <tr>\n",
       "      <th>4</th>\n",
       "      <td>09/01/2017</td>\n",
       "      <td>230000.0</td>\n",
       "      <td>AV</td>\n",
       "      <td>59800.0</td>\n",
       "      <td>LILLE</td>\n",
       "      <td>73.0</td>\n",
       "      <td>4.0</td>\n",
       "      <td>1890.0</td>\n",
       "    </tr>\n",
       "    <tr>\n",
       "      <th>...</th>\n",
       "      <td>...</td>\n",
       "      <td>...</td>\n",
       "      <td>...</td>\n",
       "      <td>...</td>\n",
       "      <td>...</td>\n",
       "      <td>...</td>\n",
       "      <td>...</td>\n",
       "      <td>...</td>\n",
       "    </tr>\n",
       "    <tr>\n",
       "      <th>27974</th>\n",
       "      <td>29/12/2020</td>\n",
       "      <td>216835.0</td>\n",
       "      <td>RUE</td>\n",
       "      <td>59300.0</td>\n",
       "      <td>VALENCIENNES</td>\n",
       "      <td>18.0</td>\n",
       "      <td>1.0</td>\n",
       "      <td>2984.0</td>\n",
       "    </tr>\n",
       "    <tr>\n",
       "      <th>27975</th>\n",
       "      <td>29/12/2020</td>\n",
       "      <td>216835.0</td>\n",
       "      <td>RUE</td>\n",
       "      <td>59300.0</td>\n",
       "      <td>VALENCIENNES</td>\n",
       "      <td>13.0</td>\n",
       "      <td>1.0</td>\n",
       "      <td>2984.0</td>\n",
       "    </tr>\n",
       "    <tr>\n",
       "      <th>27976</th>\n",
       "      <td>29/12/2020</td>\n",
       "      <td>216835.0</td>\n",
       "      <td>RUE</td>\n",
       "      <td>59300.0</td>\n",
       "      <td>VALENCIENNES</td>\n",
       "      <td>34.0</td>\n",
       "      <td>2.0</td>\n",
       "      <td>2984.0</td>\n",
       "    </tr>\n",
       "    <tr>\n",
       "      <th>27977</th>\n",
       "      <td>29/12/2020</td>\n",
       "      <td>216835.0</td>\n",
       "      <td>RUE</td>\n",
       "      <td>59300.0</td>\n",
       "      <td>VALENCIENNES</td>\n",
       "      <td>16.0</td>\n",
       "      <td>1.0</td>\n",
       "      <td>2984.0</td>\n",
       "    </tr>\n",
       "    <tr>\n",
       "      <th>27978</th>\n",
       "      <td>29/12/2020</td>\n",
       "      <td>216835.0</td>\n",
       "      <td>RUE</td>\n",
       "      <td>59300.0</td>\n",
       "      <td>VALENCIENNES</td>\n",
       "      <td>14.0</td>\n",
       "      <td>1.0</td>\n",
       "      <td>2984.0</td>\n",
       "    </tr>\n",
       "  </tbody>\n",
       "</table>\n",
       "<p>27979 rows × 8 columns</p>\n",
       "</div>"
      ],
      "text/plain": [
       "      Date mutation  Valeur fonciere Type de voie  Code postal       Commune  \\\n",
       "0        05/01/2017         170200.0          RUE      59000.0         LILLE   \n",
       "1        12/01/2017         219500.0          RUE      59800.0         LILLE   \n",
       "2        05/01/2017         115000.0          RUE      59110.0  LA MADELEINE   \n",
       "3        05/01/2017         135000.0          RUE      59110.0  LA MADELEINE   \n",
       "4        09/01/2017         230000.0           AV      59800.0         LILLE   \n",
       "...             ...              ...          ...          ...           ...   \n",
       "27974    29/12/2020         216835.0          RUE      59300.0  VALENCIENNES   \n",
       "27975    29/12/2020         216835.0          RUE      59300.0  VALENCIENNES   \n",
       "27976    29/12/2020         216835.0          RUE      59300.0  VALENCIENNES   \n",
       "27977    29/12/2020         216835.0          RUE      59300.0  VALENCIENNES   \n",
       "27978    29/12/2020         216835.0          RUE      59300.0  VALENCIENNES   \n",
       "\n",
       "       Surface reelle bati  Nombre pieces principales  Voie_0  \n",
       "0                     49.0                        2.0  2926.0  \n",
       "1                     84.0                        3.0  1774.0  \n",
       "2                     49.0                        2.0  2083.0  \n",
       "3                     88.0                        4.0   565.0  \n",
       "4                     73.0                        4.0  1890.0  \n",
       "...                    ...                        ...     ...  \n",
       "27974                 18.0                        1.0  2984.0  \n",
       "27975                 13.0                        1.0  2984.0  \n",
       "27976                 34.0                        2.0  2984.0  \n",
       "27977                 16.0                        1.0  2984.0  \n",
       "27978                 14.0                        1.0  2984.0  \n",
       "\n",
       "[27979 rows x 8 columns]"
      ]
     },
     "execution_count": 39,
     "metadata": {},
     "output_type": "execute_result"
    }
   ],
   "source": [
    "from sklearn.preprocessing import OrdinalEncoder\n",
    "#encodage en ordinal sur les voies\n",
    "ordinalencoder = OrdinalEncoder()\n",
    "encoded = ordinalencoder.fit_transform(df['Voie'].values.reshape(df['Voie'].shape[0],1))\n",
    "encoded_df = pd.DataFrame(encoded,columns = ['Voie_' + str(int(i)) for i in range(encoded.shape[1])] ) \n",
    "df=df.reset_index(drop=True)\n",
    "df = pd.concat([df,encoded_df],axis=1)\n",
    "df = df.drop('Voie',axis=1) \n",
    "df"
   ]
  },
  {
   "cell_type": "code",
   "execution_count": 582,
   "metadata": {},
   "outputs": [
    {
     "data": {
      "text/html": [
       "<div>\n",
       "<style scoped>\n",
       "    .dataframe tbody tr th:only-of-type {\n",
       "        vertical-align: middle;\n",
       "    }\n",
       "\n",
       "    .dataframe tbody tr th {\n",
       "        vertical-align: top;\n",
       "    }\n",
       "\n",
       "    .dataframe thead th {\n",
       "        text-align: right;\n",
       "    }\n",
       "</style>\n",
       "<table border=\"1\" class=\"dataframe\">\n",
       "  <thead>\n",
       "    <tr style=\"text-align: right;\">\n",
       "      <th></th>\n",
       "      <th>Date mutation</th>\n",
       "      <th>Valeur fonciere</th>\n",
       "      <th>Code postal</th>\n",
       "      <th>Commune</th>\n",
       "      <th>Surface reelle bati</th>\n",
       "      <th>Nombre pieces principales</th>\n",
       "      <th>Voie_0</th>\n",
       "      <th>Voie_1</th>\n",
       "      <th>Voie_2</th>\n",
       "      <th>Voie_3</th>\n",
       "      <th>...</th>\n",
       "      <th>Type de voie_21</th>\n",
       "      <th>Type de voie_22</th>\n",
       "      <th>Type de voie_23</th>\n",
       "      <th>Type de voie_24</th>\n",
       "      <th>Type de voie_25</th>\n",
       "      <th>Type de voie_26</th>\n",
       "      <th>Type de voie_27</th>\n",
       "      <th>Type de voie_28</th>\n",
       "      <th>Type de voie_29</th>\n",
       "      <th>Type de voie_30</th>\n",
       "    </tr>\n",
       "  </thead>\n",
       "  <tbody>\n",
       "    <tr>\n",
       "      <th>0</th>\n",
       "      <td>02/01/2018</td>\n",
       "      <td>167900.0</td>\n",
       "      <td>59000.0</td>\n",
       "      <td>LILLE</td>\n",
       "      <td>54.0</td>\n",
       "      <td>2.0</td>\n",
       "      <td>0.0</td>\n",
       "      <td>0.0</td>\n",
       "      <td>0.0</td>\n",
       "      <td>0.0</td>\n",
       "      <td>...</td>\n",
       "      <td>0.0</td>\n",
       "      <td>0.0</td>\n",
       "      <td>0.0</td>\n",
       "      <td>0.0</td>\n",
       "      <td>1.0</td>\n",
       "      <td>0.0</td>\n",
       "      <td>0.0</td>\n",
       "      <td>0.0</td>\n",
       "      <td>0.0</td>\n",
       "      <td>0.0</td>\n",
       "    </tr>\n",
       "    <tr>\n",
       "      <th>1</th>\n",
       "      <td>03/01/2018</td>\n",
       "      <td>121240.0</td>\n",
       "      <td>59110.0</td>\n",
       "      <td>LA MADELEINE</td>\n",
       "      <td>47.0</td>\n",
       "      <td>2.0</td>\n",
       "      <td>0.0</td>\n",
       "      <td>0.0</td>\n",
       "      <td>0.0</td>\n",
       "      <td>0.0</td>\n",
       "      <td>...</td>\n",
       "      <td>0.0</td>\n",
       "      <td>0.0</td>\n",
       "      <td>0.0</td>\n",
       "      <td>0.0</td>\n",
       "      <td>0.0</td>\n",
       "      <td>0.0</td>\n",
       "      <td>0.0</td>\n",
       "      <td>0.0</td>\n",
       "      <td>0.0</td>\n",
       "      <td>0.0</td>\n",
       "    </tr>\n",
       "    <tr>\n",
       "      <th>2</th>\n",
       "      <td>05/01/2018</td>\n",
       "      <td>173800.0</td>\n",
       "      <td>59110.0</td>\n",
       "      <td>LA MADELEINE</td>\n",
       "      <td>50.0</td>\n",
       "      <td>2.0</td>\n",
       "      <td>0.0</td>\n",
       "      <td>0.0</td>\n",
       "      <td>0.0</td>\n",
       "      <td>0.0</td>\n",
       "      <td>...</td>\n",
       "      <td>0.0</td>\n",
       "      <td>0.0</td>\n",
       "      <td>0.0</td>\n",
       "      <td>0.0</td>\n",
       "      <td>1.0</td>\n",
       "      <td>0.0</td>\n",
       "      <td>0.0</td>\n",
       "      <td>0.0</td>\n",
       "      <td>0.0</td>\n",
       "      <td>0.0</td>\n",
       "    </tr>\n",
       "    <tr>\n",
       "      <th>3</th>\n",
       "      <td>02/01/2018</td>\n",
       "      <td>167500.0</td>\n",
       "      <td>59260.0</td>\n",
       "      <td>LILLE</td>\n",
       "      <td>55.0</td>\n",
       "      <td>3.0</td>\n",
       "      <td>0.0</td>\n",
       "      <td>0.0</td>\n",
       "      <td>0.0</td>\n",
       "      <td>0.0</td>\n",
       "      <td>...</td>\n",
       "      <td>0.0</td>\n",
       "      <td>0.0</td>\n",
       "      <td>0.0</td>\n",
       "      <td>0.0</td>\n",
       "      <td>1.0</td>\n",
       "      <td>0.0</td>\n",
       "      <td>0.0</td>\n",
       "      <td>0.0</td>\n",
       "      <td>0.0</td>\n",
       "      <td>0.0</td>\n",
       "    </tr>\n",
       "    <tr>\n",
       "      <th>4</th>\n",
       "      <td>02/01/2018</td>\n",
       "      <td>167500.0</td>\n",
       "      <td>59260.0</td>\n",
       "      <td>LILLE</td>\n",
       "      <td>20.0</td>\n",
       "      <td>1.0</td>\n",
       "      <td>0.0</td>\n",
       "      <td>0.0</td>\n",
       "      <td>0.0</td>\n",
       "      <td>0.0</td>\n",
       "      <td>...</td>\n",
       "      <td>0.0</td>\n",
       "      <td>0.0</td>\n",
       "      <td>0.0</td>\n",
       "      <td>0.0</td>\n",
       "      <td>1.0</td>\n",
       "      <td>0.0</td>\n",
       "      <td>0.0</td>\n",
       "      <td>0.0</td>\n",
       "      <td>0.0</td>\n",
       "      <td>0.0</td>\n",
       "    </tr>\n",
       "    <tr>\n",
       "      <th>...</th>\n",
       "      <td>...</td>\n",
       "      <td>...</td>\n",
       "      <td>...</td>\n",
       "      <td>...</td>\n",
       "      <td>...</td>\n",
       "      <td>...</td>\n",
       "      <td>...</td>\n",
       "      <td>...</td>\n",
       "      <td>...</td>\n",
       "      <td>...</td>\n",
       "      <td>...</td>\n",
       "      <td>...</td>\n",
       "      <td>...</td>\n",
       "      <td>...</td>\n",
       "      <td>...</td>\n",
       "      <td>...</td>\n",
       "      <td>...</td>\n",
       "      <td>...</td>\n",
       "      <td>...</td>\n",
       "      <td>...</td>\n",
       "      <td>...</td>\n",
       "    </tr>\n",
       "    <tr>\n",
       "      <th>14346</th>\n",
       "      <td>20/12/2019</td>\n",
       "      <td>220000.0</td>\n",
       "      <td>59300.0</td>\n",
       "      <td>VALENCIENNES</td>\n",
       "      <td>17.0</td>\n",
       "      <td>1.0</td>\n",
       "      <td>0.0</td>\n",
       "      <td>0.0</td>\n",
       "      <td>0.0</td>\n",
       "      <td>0.0</td>\n",
       "      <td>...</td>\n",
       "      <td>0.0</td>\n",
       "      <td>0.0</td>\n",
       "      <td>0.0</td>\n",
       "      <td>0.0</td>\n",
       "      <td>1.0</td>\n",
       "      <td>0.0</td>\n",
       "      <td>0.0</td>\n",
       "      <td>0.0</td>\n",
       "      <td>0.0</td>\n",
       "      <td>0.0</td>\n",
       "    </tr>\n",
       "    <tr>\n",
       "      <th>14347</th>\n",
       "      <td>20/12/2019</td>\n",
       "      <td>220000.0</td>\n",
       "      <td>59300.0</td>\n",
       "      <td>VALENCIENNES</td>\n",
       "      <td>18.0</td>\n",
       "      <td>1.0</td>\n",
       "      <td>0.0</td>\n",
       "      <td>0.0</td>\n",
       "      <td>0.0</td>\n",
       "      <td>0.0</td>\n",
       "      <td>...</td>\n",
       "      <td>0.0</td>\n",
       "      <td>0.0</td>\n",
       "      <td>0.0</td>\n",
       "      <td>0.0</td>\n",
       "      <td>1.0</td>\n",
       "      <td>0.0</td>\n",
       "      <td>0.0</td>\n",
       "      <td>0.0</td>\n",
       "      <td>0.0</td>\n",
       "      <td>0.0</td>\n",
       "    </tr>\n",
       "    <tr>\n",
       "      <th>14348</th>\n",
       "      <td>20/12/2019</td>\n",
       "      <td>319000.0</td>\n",
       "      <td>59300.0</td>\n",
       "      <td>VALENCIENNES</td>\n",
       "      <td>74.0</td>\n",
       "      <td>3.0</td>\n",
       "      <td>0.0</td>\n",
       "      <td>0.0</td>\n",
       "      <td>0.0</td>\n",
       "      <td>0.0</td>\n",
       "      <td>...</td>\n",
       "      <td>0.0</td>\n",
       "      <td>0.0</td>\n",
       "      <td>0.0</td>\n",
       "      <td>0.0</td>\n",
       "      <td>1.0</td>\n",
       "      <td>0.0</td>\n",
       "      <td>0.0</td>\n",
       "      <td>0.0</td>\n",
       "      <td>0.0</td>\n",
       "      <td>0.0</td>\n",
       "    </tr>\n",
       "    <tr>\n",
       "      <th>14349</th>\n",
       "      <td>20/12/2019</td>\n",
       "      <td>319000.0</td>\n",
       "      <td>59300.0</td>\n",
       "      <td>VALENCIENNES</td>\n",
       "      <td>49.0</td>\n",
       "      <td>2.0</td>\n",
       "      <td>0.0</td>\n",
       "      <td>0.0</td>\n",
       "      <td>0.0</td>\n",
       "      <td>0.0</td>\n",
       "      <td>...</td>\n",
       "      <td>0.0</td>\n",
       "      <td>0.0</td>\n",
       "      <td>0.0</td>\n",
       "      <td>0.0</td>\n",
       "      <td>1.0</td>\n",
       "      <td>0.0</td>\n",
       "      <td>0.0</td>\n",
       "      <td>0.0</td>\n",
       "      <td>0.0</td>\n",
       "      <td>0.0</td>\n",
       "    </tr>\n",
       "    <tr>\n",
       "      <th>14350</th>\n",
       "      <td>30/12/2019</td>\n",
       "      <td>154700.0</td>\n",
       "      <td>59300.0</td>\n",
       "      <td>VALENCIENNES</td>\n",
       "      <td>44.0</td>\n",
       "      <td>2.0</td>\n",
       "      <td>0.0</td>\n",
       "      <td>0.0</td>\n",
       "      <td>0.0</td>\n",
       "      <td>0.0</td>\n",
       "      <td>...</td>\n",
       "      <td>0.0</td>\n",
       "      <td>0.0</td>\n",
       "      <td>0.0</td>\n",
       "      <td>0.0</td>\n",
       "      <td>0.0</td>\n",
       "      <td>0.0</td>\n",
       "      <td>0.0</td>\n",
       "      <td>0.0</td>\n",
       "      <td>0.0</td>\n",
       "      <td>0.0</td>\n",
       "    </tr>\n",
       "  </tbody>\n",
       "</table>\n",
       "<p>14351 rows × 1789 columns</p>\n",
       "</div>"
      ],
      "text/plain": [
       "      Date mutation  Valeur fonciere  Code postal       Commune  \\\n",
       "0        02/01/2018         167900.0      59000.0         LILLE   \n",
       "1        03/01/2018         121240.0      59110.0  LA MADELEINE   \n",
       "2        05/01/2018         173800.0      59110.0  LA MADELEINE   \n",
       "3        02/01/2018         167500.0      59260.0         LILLE   \n",
       "4        02/01/2018         167500.0      59260.0         LILLE   \n",
       "...             ...              ...          ...           ...   \n",
       "14346    20/12/2019         220000.0      59300.0  VALENCIENNES   \n",
       "14347    20/12/2019         220000.0      59300.0  VALENCIENNES   \n",
       "14348    20/12/2019         319000.0      59300.0  VALENCIENNES   \n",
       "14349    20/12/2019         319000.0      59300.0  VALENCIENNES   \n",
       "14350    30/12/2019         154700.0      59300.0  VALENCIENNES   \n",
       "\n",
       "       Surface reelle bati  Nombre pieces principales  Voie_0  Voie_1  Voie_2  \\\n",
       "0                     54.0                        2.0     0.0     0.0     0.0   \n",
       "1                     47.0                        2.0     0.0     0.0     0.0   \n",
       "2                     50.0                        2.0     0.0     0.0     0.0   \n",
       "3                     55.0                        3.0     0.0     0.0     0.0   \n",
       "4                     20.0                        1.0     0.0     0.0     0.0   \n",
       "...                    ...                        ...     ...     ...     ...   \n",
       "14346                 17.0                        1.0     0.0     0.0     0.0   \n",
       "14347                 18.0                        1.0     0.0     0.0     0.0   \n",
       "14348                 74.0                        3.0     0.0     0.0     0.0   \n",
       "14349                 49.0                        2.0     0.0     0.0     0.0   \n",
       "14350                 44.0                        2.0     0.0     0.0     0.0   \n",
       "\n",
       "       Voie_3  ...  Type de voie_21  Type de voie_22  Type de voie_23  \\\n",
       "0         0.0  ...              0.0              0.0              0.0   \n",
       "1         0.0  ...              0.0              0.0              0.0   \n",
       "2         0.0  ...              0.0              0.0              0.0   \n",
       "3         0.0  ...              0.0              0.0              0.0   \n",
       "4         0.0  ...              0.0              0.0              0.0   \n",
       "...       ...  ...              ...              ...              ...   \n",
       "14346     0.0  ...              0.0              0.0              0.0   \n",
       "14347     0.0  ...              0.0              0.0              0.0   \n",
       "14348     0.0  ...              0.0              0.0              0.0   \n",
       "14349     0.0  ...              0.0              0.0              0.0   \n",
       "14350     0.0  ...              0.0              0.0              0.0   \n",
       "\n",
       "       Type de voie_24  Type de voie_25  Type de voie_26  Type de voie_27  \\\n",
       "0                  0.0              1.0              0.0              0.0   \n",
       "1                  0.0              0.0              0.0              0.0   \n",
       "2                  0.0              1.0              0.0              0.0   \n",
       "3                  0.0              1.0              0.0              0.0   \n",
       "4                  0.0              1.0              0.0              0.0   \n",
       "...                ...              ...              ...              ...   \n",
       "14346              0.0              1.0              0.0              0.0   \n",
       "14347              0.0              1.0              0.0              0.0   \n",
       "14348              0.0              1.0              0.0              0.0   \n",
       "14349              0.0              1.0              0.0              0.0   \n",
       "14350              0.0              0.0              0.0              0.0   \n",
       "\n",
       "       Type de voie_28  Type de voie_29  Type de voie_30  \n",
       "0                  0.0              0.0              0.0  \n",
       "1                  0.0              0.0              0.0  \n",
       "2                  0.0              0.0              0.0  \n",
       "3                  0.0              0.0              0.0  \n",
       "4                  0.0              0.0              0.0  \n",
       "...                ...              ...              ...  \n",
       "14346              0.0              0.0              0.0  \n",
       "14347              0.0              0.0              0.0  \n",
       "14348              0.0              0.0              0.0  \n",
       "14349              0.0              0.0              0.0  \n",
       "14350              0.0              0.0              0.0  \n",
       "\n",
       "[14351 rows x 1789 columns]"
      ]
     },
     "execution_count": 582,
     "metadata": {},
     "output_type": "execute_result"
    }
   ],
   "source": [
    "#encodage onehot sur les types de voie\n",
    "encoded = onehotencoder.fit_transform(df['Type de voie'].values.reshape(df['Type de voie'].shape[0],1))\n",
    "encoded_df = pd.DataFrame(encoded,columns = ['Type de voie_' + str(int(i)) for i in range(encoded.shape[1])] ) \n",
    "df=df.reset_index(drop=True)\n",
    "df = pd.concat([df,encoded_df],axis=1)\n",
    "df = df.drop('Type de voie',axis=1) \n",
    "df"
   ]
  },
  {
   "cell_type": "code",
   "execution_count": 40,
   "metadata": {},
   "outputs": [
    {
     "data": {
      "text/html": [
       "<div>\n",
       "<style scoped>\n",
       "    .dataframe tbody tr th:only-of-type {\n",
       "        vertical-align: middle;\n",
       "    }\n",
       "\n",
       "    .dataframe tbody tr th {\n",
       "        vertical-align: top;\n",
       "    }\n",
       "\n",
       "    .dataframe thead th {\n",
       "        text-align: right;\n",
       "    }\n",
       "</style>\n",
       "<table border=\"1\" class=\"dataframe\">\n",
       "  <thead>\n",
       "    <tr style=\"text-align: right;\">\n",
       "      <th></th>\n",
       "      <th>Date mutation</th>\n",
       "      <th>Valeur fonciere</th>\n",
       "      <th>Code postal</th>\n",
       "      <th>Commune</th>\n",
       "      <th>Surface reelle bati</th>\n",
       "      <th>Nombre pieces principales</th>\n",
       "      <th>Voie_0</th>\n",
       "      <th>Type de voie_0</th>\n",
       "    </tr>\n",
       "  </thead>\n",
       "  <tbody>\n",
       "    <tr>\n",
       "      <th>0</th>\n",
       "      <td>05/01/2017</td>\n",
       "      <td>170200.0</td>\n",
       "      <td>59000.0</td>\n",
       "      <td>LILLE</td>\n",
       "      <td>49.0</td>\n",
       "      <td>2.0</td>\n",
       "      <td>2926.0</td>\n",
       "      <td>29.0</td>\n",
       "    </tr>\n",
       "    <tr>\n",
       "      <th>1</th>\n",
       "      <td>12/01/2017</td>\n",
       "      <td>219500.0</td>\n",
       "      <td>59800.0</td>\n",
       "      <td>LILLE</td>\n",
       "      <td>84.0</td>\n",
       "      <td>3.0</td>\n",
       "      <td>1774.0</td>\n",
       "      <td>29.0</td>\n",
       "    </tr>\n",
       "    <tr>\n",
       "      <th>2</th>\n",
       "      <td>05/01/2017</td>\n",
       "      <td>115000.0</td>\n",
       "      <td>59110.0</td>\n",
       "      <td>LA MADELEINE</td>\n",
       "      <td>49.0</td>\n",
       "      <td>2.0</td>\n",
       "      <td>2083.0</td>\n",
       "      <td>29.0</td>\n",
       "    </tr>\n",
       "    <tr>\n",
       "      <th>3</th>\n",
       "      <td>05/01/2017</td>\n",
       "      <td>135000.0</td>\n",
       "      <td>59110.0</td>\n",
       "      <td>LA MADELEINE</td>\n",
       "      <td>88.0</td>\n",
       "      <td>4.0</td>\n",
       "      <td>565.0</td>\n",
       "      <td>29.0</td>\n",
       "    </tr>\n",
       "    <tr>\n",
       "      <th>4</th>\n",
       "      <td>09/01/2017</td>\n",
       "      <td>230000.0</td>\n",
       "      <td>59800.0</td>\n",
       "      <td>LILLE</td>\n",
       "      <td>73.0</td>\n",
       "      <td>4.0</td>\n",
       "      <td>1890.0</td>\n",
       "      <td>1.0</td>\n",
       "    </tr>\n",
       "    <tr>\n",
       "      <th>...</th>\n",
       "      <td>...</td>\n",
       "      <td>...</td>\n",
       "      <td>...</td>\n",
       "      <td>...</td>\n",
       "      <td>...</td>\n",
       "      <td>...</td>\n",
       "      <td>...</td>\n",
       "      <td>...</td>\n",
       "    </tr>\n",
       "    <tr>\n",
       "      <th>27974</th>\n",
       "      <td>29/12/2020</td>\n",
       "      <td>216835.0</td>\n",
       "      <td>59300.0</td>\n",
       "      <td>VALENCIENNES</td>\n",
       "      <td>18.0</td>\n",
       "      <td>1.0</td>\n",
       "      <td>2984.0</td>\n",
       "      <td>29.0</td>\n",
       "    </tr>\n",
       "    <tr>\n",
       "      <th>27975</th>\n",
       "      <td>29/12/2020</td>\n",
       "      <td>216835.0</td>\n",
       "      <td>59300.0</td>\n",
       "      <td>VALENCIENNES</td>\n",
       "      <td>13.0</td>\n",
       "      <td>1.0</td>\n",
       "      <td>2984.0</td>\n",
       "      <td>29.0</td>\n",
       "    </tr>\n",
       "    <tr>\n",
       "      <th>27976</th>\n",
       "      <td>29/12/2020</td>\n",
       "      <td>216835.0</td>\n",
       "      <td>59300.0</td>\n",
       "      <td>VALENCIENNES</td>\n",
       "      <td>34.0</td>\n",
       "      <td>2.0</td>\n",
       "      <td>2984.0</td>\n",
       "      <td>29.0</td>\n",
       "    </tr>\n",
       "    <tr>\n",
       "      <th>27977</th>\n",
       "      <td>29/12/2020</td>\n",
       "      <td>216835.0</td>\n",
       "      <td>59300.0</td>\n",
       "      <td>VALENCIENNES</td>\n",
       "      <td>16.0</td>\n",
       "      <td>1.0</td>\n",
       "      <td>2984.0</td>\n",
       "      <td>29.0</td>\n",
       "    </tr>\n",
       "    <tr>\n",
       "      <th>27978</th>\n",
       "      <td>29/12/2020</td>\n",
       "      <td>216835.0</td>\n",
       "      <td>59300.0</td>\n",
       "      <td>VALENCIENNES</td>\n",
       "      <td>14.0</td>\n",
       "      <td>1.0</td>\n",
       "      <td>2984.0</td>\n",
       "      <td>29.0</td>\n",
       "    </tr>\n",
       "  </tbody>\n",
       "</table>\n",
       "<p>27979 rows × 8 columns</p>\n",
       "</div>"
      ],
      "text/plain": [
       "      Date mutation  Valeur fonciere  Code postal       Commune  \\\n",
       "0        05/01/2017         170200.0      59000.0         LILLE   \n",
       "1        12/01/2017         219500.0      59800.0         LILLE   \n",
       "2        05/01/2017         115000.0      59110.0  LA MADELEINE   \n",
       "3        05/01/2017         135000.0      59110.0  LA MADELEINE   \n",
       "4        09/01/2017         230000.0      59800.0         LILLE   \n",
       "...             ...              ...          ...           ...   \n",
       "27974    29/12/2020         216835.0      59300.0  VALENCIENNES   \n",
       "27975    29/12/2020         216835.0      59300.0  VALENCIENNES   \n",
       "27976    29/12/2020         216835.0      59300.0  VALENCIENNES   \n",
       "27977    29/12/2020         216835.0      59300.0  VALENCIENNES   \n",
       "27978    29/12/2020         216835.0      59300.0  VALENCIENNES   \n",
       "\n",
       "       Surface reelle bati  Nombre pieces principales  Voie_0  Type de voie_0  \n",
       "0                     49.0                        2.0  2926.0            29.0  \n",
       "1                     84.0                        3.0  1774.0            29.0  \n",
       "2                     49.0                        2.0  2083.0            29.0  \n",
       "3                     88.0                        4.0   565.0            29.0  \n",
       "4                     73.0                        4.0  1890.0             1.0  \n",
       "...                    ...                        ...     ...             ...  \n",
       "27974                 18.0                        1.0  2984.0            29.0  \n",
       "27975                 13.0                        1.0  2984.0            29.0  \n",
       "27976                 34.0                        2.0  2984.0            29.0  \n",
       "27977                 16.0                        1.0  2984.0            29.0  \n",
       "27978                 14.0                        1.0  2984.0            29.0  \n",
       "\n",
       "[27979 rows x 8 columns]"
      ]
     },
     "execution_count": 40,
     "metadata": {},
     "output_type": "execute_result"
    }
   ],
   "source": [
    "#encodage en ordinal sur les types de voie\n",
    "ordinalencoder = OrdinalEncoder()\n",
    "encoded = ordinalencoder.fit_transform(df['Type de voie'].values.reshape(df['Type de voie'].shape[0],1))\n",
    "encoded_df = pd.DataFrame(encoded,columns = ['Type de voie_' + str(int(i)) for i in range(encoded.shape[1])] ) \n",
    "df=df.reset_index(drop=True)\n",
    "df = pd.concat([df,encoded_df],axis=1)\n",
    "df = df.drop('Type de voie',axis=1) \n",
    "df"
   ]
  },
  {
   "cell_type": "code",
   "execution_count": 41,
   "metadata": {},
   "outputs": [
    {
     "name": "stderr",
     "output_type": "stream",
     "text": [
      "<ipython-input-41-a794c796b21e>:6: SettingWithCopyWarning: \n",
      "A value is trying to be set on a copy of a slice from a DataFrame\n",
      "\n",
      "See the caveats in the documentation: https://pandas.pydata.org/pandas-docs/stable/user_guide/indexing.html#returning-a-view-versus-a-copy\n",
      "  df['Mois'][i] = int((df['Date mutation'][i])[3:5])\n",
      "<ipython-input-41-a794c796b21e>:7: SettingWithCopyWarning: \n",
      "A value is trying to be set on a copy of a slice from a DataFrame\n",
      "\n",
      "See the caveats in the documentation: https://pandas.pydata.org/pandas-docs/stable/user_guide/indexing.html#returning-a-view-versus-a-copy\n",
      "  df['Annee'][i] = int((df['Date mutation'][i])[6:10])\n"
     ]
    },
    {
     "data": {
      "text/html": [
       "<div>\n",
       "<style scoped>\n",
       "    .dataframe tbody tr th:only-of-type {\n",
       "        vertical-align: middle;\n",
       "    }\n",
       "\n",
       "    .dataframe tbody tr th {\n",
       "        vertical-align: top;\n",
       "    }\n",
       "\n",
       "    .dataframe thead th {\n",
       "        text-align: right;\n",
       "    }\n",
       "</style>\n",
       "<table border=\"1\" class=\"dataframe\">\n",
       "  <thead>\n",
       "    <tr style=\"text-align: right;\">\n",
       "      <th></th>\n",
       "      <th>Valeur fonciere</th>\n",
       "      <th>Code postal</th>\n",
       "      <th>Commune</th>\n",
       "      <th>Surface reelle bati</th>\n",
       "      <th>Nombre pieces principales</th>\n",
       "      <th>Voie_0</th>\n",
       "      <th>Type de voie_0</th>\n",
       "      <th>Mois</th>\n",
       "      <th>Annee</th>\n",
       "    </tr>\n",
       "  </thead>\n",
       "  <tbody>\n",
       "    <tr>\n",
       "      <th>0</th>\n",
       "      <td>170200.0</td>\n",
       "      <td>59000.0</td>\n",
       "      <td>LILLE</td>\n",
       "      <td>49.0</td>\n",
       "      <td>2.0</td>\n",
       "      <td>2926.0</td>\n",
       "      <td>29.0</td>\n",
       "      <td>1</td>\n",
       "      <td>2017</td>\n",
       "    </tr>\n",
       "    <tr>\n",
       "      <th>1</th>\n",
       "      <td>219500.0</td>\n",
       "      <td>59800.0</td>\n",
       "      <td>LILLE</td>\n",
       "      <td>84.0</td>\n",
       "      <td>3.0</td>\n",
       "      <td>1774.0</td>\n",
       "      <td>29.0</td>\n",
       "      <td>1</td>\n",
       "      <td>2017</td>\n",
       "    </tr>\n",
       "    <tr>\n",
       "      <th>2</th>\n",
       "      <td>115000.0</td>\n",
       "      <td>59110.0</td>\n",
       "      <td>LA MADELEINE</td>\n",
       "      <td>49.0</td>\n",
       "      <td>2.0</td>\n",
       "      <td>2083.0</td>\n",
       "      <td>29.0</td>\n",
       "      <td>1</td>\n",
       "      <td>2017</td>\n",
       "    </tr>\n",
       "    <tr>\n",
       "      <th>3</th>\n",
       "      <td>135000.0</td>\n",
       "      <td>59110.0</td>\n",
       "      <td>LA MADELEINE</td>\n",
       "      <td>88.0</td>\n",
       "      <td>4.0</td>\n",
       "      <td>565.0</td>\n",
       "      <td>29.0</td>\n",
       "      <td>1</td>\n",
       "      <td>2017</td>\n",
       "    </tr>\n",
       "    <tr>\n",
       "      <th>4</th>\n",
       "      <td>230000.0</td>\n",
       "      <td>59800.0</td>\n",
       "      <td>LILLE</td>\n",
       "      <td>73.0</td>\n",
       "      <td>4.0</td>\n",
       "      <td>1890.0</td>\n",
       "      <td>1.0</td>\n",
       "      <td>1</td>\n",
       "      <td>2017</td>\n",
       "    </tr>\n",
       "    <tr>\n",
       "      <th>...</th>\n",
       "      <td>...</td>\n",
       "      <td>...</td>\n",
       "      <td>...</td>\n",
       "      <td>...</td>\n",
       "      <td>...</td>\n",
       "      <td>...</td>\n",
       "      <td>...</td>\n",
       "      <td>...</td>\n",
       "      <td>...</td>\n",
       "    </tr>\n",
       "    <tr>\n",
       "      <th>27974</th>\n",
       "      <td>216835.0</td>\n",
       "      <td>59300.0</td>\n",
       "      <td>VALENCIENNES</td>\n",
       "      <td>18.0</td>\n",
       "      <td>1.0</td>\n",
       "      <td>2984.0</td>\n",
       "      <td>29.0</td>\n",
       "      <td>12</td>\n",
       "      <td>2020</td>\n",
       "    </tr>\n",
       "    <tr>\n",
       "      <th>27975</th>\n",
       "      <td>216835.0</td>\n",
       "      <td>59300.0</td>\n",
       "      <td>VALENCIENNES</td>\n",
       "      <td>13.0</td>\n",
       "      <td>1.0</td>\n",
       "      <td>2984.0</td>\n",
       "      <td>29.0</td>\n",
       "      <td>12</td>\n",
       "      <td>2020</td>\n",
       "    </tr>\n",
       "    <tr>\n",
       "      <th>27976</th>\n",
       "      <td>216835.0</td>\n",
       "      <td>59300.0</td>\n",
       "      <td>VALENCIENNES</td>\n",
       "      <td>34.0</td>\n",
       "      <td>2.0</td>\n",
       "      <td>2984.0</td>\n",
       "      <td>29.0</td>\n",
       "      <td>12</td>\n",
       "      <td>2020</td>\n",
       "    </tr>\n",
       "    <tr>\n",
       "      <th>27977</th>\n",
       "      <td>216835.0</td>\n",
       "      <td>59300.0</td>\n",
       "      <td>VALENCIENNES</td>\n",
       "      <td>16.0</td>\n",
       "      <td>1.0</td>\n",
       "      <td>2984.0</td>\n",
       "      <td>29.0</td>\n",
       "      <td>12</td>\n",
       "      <td>2020</td>\n",
       "    </tr>\n",
       "    <tr>\n",
       "      <th>27978</th>\n",
       "      <td>216835.0</td>\n",
       "      <td>59300.0</td>\n",
       "      <td>VALENCIENNES</td>\n",
       "      <td>14.0</td>\n",
       "      <td>1.0</td>\n",
       "      <td>2984.0</td>\n",
       "      <td>29.0</td>\n",
       "      <td>12</td>\n",
       "      <td>2020</td>\n",
       "    </tr>\n",
       "  </tbody>\n",
       "</table>\n",
       "<p>27979 rows × 9 columns</p>\n",
       "</div>"
      ],
      "text/plain": [
       "       Valeur fonciere  Code postal       Commune  Surface reelle bati  \\\n",
       "0             170200.0      59000.0         LILLE                 49.0   \n",
       "1             219500.0      59800.0         LILLE                 84.0   \n",
       "2             115000.0      59110.0  LA MADELEINE                 49.0   \n",
       "3             135000.0      59110.0  LA MADELEINE                 88.0   \n",
       "4             230000.0      59800.0         LILLE                 73.0   \n",
       "...                ...          ...           ...                  ...   \n",
       "27974         216835.0      59300.0  VALENCIENNES                 18.0   \n",
       "27975         216835.0      59300.0  VALENCIENNES                 13.0   \n",
       "27976         216835.0      59300.0  VALENCIENNES                 34.0   \n",
       "27977         216835.0      59300.0  VALENCIENNES                 16.0   \n",
       "27978         216835.0      59300.0  VALENCIENNES                 14.0   \n",
       "\n",
       "       Nombre pieces principales  Voie_0  Type de voie_0  Mois  Annee  \n",
       "0                            2.0  2926.0            29.0     1   2017  \n",
       "1                            3.0  1774.0            29.0     1   2017  \n",
       "2                            2.0  2083.0            29.0     1   2017  \n",
       "3                            4.0   565.0            29.0     1   2017  \n",
       "4                            4.0  1890.0             1.0     1   2017  \n",
       "...                          ...     ...             ...   ...    ...  \n",
       "27974                        1.0  2984.0            29.0    12   2020  \n",
       "27975                        1.0  2984.0            29.0    12   2020  \n",
       "27976                        2.0  2984.0            29.0    12   2020  \n",
       "27977                        1.0  2984.0            29.0    12   2020  \n",
       "27978                        1.0  2984.0            29.0    12   2020  \n",
       "\n",
       "[27979 rows x 9 columns]"
      ]
     },
     "execution_count": 41,
     "metadata": {},
     "output_type": "execute_result"
    }
   ],
   "source": [
    "#encodage de la date\n",
    "#on cree une colonne 'mois' a partir de la colonne date\n",
    "df['Mois'] = 0\n",
    "df['Annee'] = 0\n",
    "for i in range(df.shape[0]):\n",
    "    df['Mois'][i] = int((df['Date mutation'][i])[3:5])\n",
    "    df['Annee'][i] = int((df['Date mutation'][i])[6:10])\n",
    "df = df.drop('Date mutation',axis=1) \n",
    "df"
   ]
  },
  {
   "cell_type": "code",
   "execution_count": 42,
   "metadata": {},
   "outputs": [
    {
     "data": {
      "text/html": [
       "<div>\n",
       "<style scoped>\n",
       "    .dataframe tbody tr th:only-of-type {\n",
       "        vertical-align: middle;\n",
       "    }\n",
       "\n",
       "    .dataframe tbody tr th {\n",
       "        vertical-align: top;\n",
       "    }\n",
       "\n",
       "    .dataframe thead th {\n",
       "        text-align: right;\n",
       "    }\n",
       "</style>\n",
       "<table border=\"1\" class=\"dataframe\">\n",
       "  <thead>\n",
       "    <tr style=\"text-align: right;\">\n",
       "      <th></th>\n",
       "      <th>Valeur fonciere</th>\n",
       "      <th>Code postal</th>\n",
       "      <th>Surface reelle bati</th>\n",
       "      <th>Nombre pieces principales</th>\n",
       "      <th>Voie_0</th>\n",
       "      <th>Type de voie_0</th>\n",
       "      <th>Mois</th>\n",
       "      <th>Annee</th>\n",
       "      <th>Commune_0</th>\n",
       "    </tr>\n",
       "  </thead>\n",
       "  <tbody>\n",
       "    <tr>\n",
       "      <th>0</th>\n",
       "      <td>170200.0</td>\n",
       "      <td>59000.0</td>\n",
       "      <td>49.0</td>\n",
       "      <td>2.0</td>\n",
       "      <td>2926.0</td>\n",
       "      <td>29.0</td>\n",
       "      <td>1</td>\n",
       "      <td>2017</td>\n",
       "      <td>159.0</td>\n",
       "    </tr>\n",
       "    <tr>\n",
       "      <th>1</th>\n",
       "      <td>219500.0</td>\n",
       "      <td>59800.0</td>\n",
       "      <td>84.0</td>\n",
       "      <td>3.0</td>\n",
       "      <td>1774.0</td>\n",
       "      <td>29.0</td>\n",
       "      <td>1</td>\n",
       "      <td>2017</td>\n",
       "      <td>159.0</td>\n",
       "    </tr>\n",
       "    <tr>\n",
       "      <th>2</th>\n",
       "      <td>115000.0</td>\n",
       "      <td>59110.0</td>\n",
       "      <td>49.0</td>\n",
       "      <td>2.0</td>\n",
       "      <td>2083.0</td>\n",
       "      <td>29.0</td>\n",
       "      <td>1</td>\n",
       "      <td>2017</td>\n",
       "      <td>138.0</td>\n",
       "    </tr>\n",
       "    <tr>\n",
       "      <th>3</th>\n",
       "      <td>135000.0</td>\n",
       "      <td>59110.0</td>\n",
       "      <td>88.0</td>\n",
       "      <td>4.0</td>\n",
       "      <td>565.0</td>\n",
       "      <td>29.0</td>\n",
       "      <td>1</td>\n",
       "      <td>2017</td>\n",
       "      <td>138.0</td>\n",
       "    </tr>\n",
       "    <tr>\n",
       "      <th>4</th>\n",
       "      <td>230000.0</td>\n",
       "      <td>59800.0</td>\n",
       "      <td>73.0</td>\n",
       "      <td>4.0</td>\n",
       "      <td>1890.0</td>\n",
       "      <td>1.0</td>\n",
       "      <td>1</td>\n",
       "      <td>2017</td>\n",
       "      <td>159.0</td>\n",
       "    </tr>\n",
       "    <tr>\n",
       "      <th>...</th>\n",
       "      <td>...</td>\n",
       "      <td>...</td>\n",
       "      <td>...</td>\n",
       "      <td>...</td>\n",
       "      <td>...</td>\n",
       "      <td>...</td>\n",
       "      <td>...</td>\n",
       "      <td>...</td>\n",
       "      <td>...</td>\n",
       "    </tr>\n",
       "    <tr>\n",
       "      <th>27974</th>\n",
       "      <td>216835.0</td>\n",
       "      <td>59300.0</td>\n",
       "      <td>18.0</td>\n",
       "      <td>1.0</td>\n",
       "      <td>2984.0</td>\n",
       "      <td>29.0</td>\n",
       "      <td>12</td>\n",
       "      <td>2020</td>\n",
       "      <td>269.0</td>\n",
       "    </tr>\n",
       "    <tr>\n",
       "      <th>27975</th>\n",
       "      <td>216835.0</td>\n",
       "      <td>59300.0</td>\n",
       "      <td>13.0</td>\n",
       "      <td>1.0</td>\n",
       "      <td>2984.0</td>\n",
       "      <td>29.0</td>\n",
       "      <td>12</td>\n",
       "      <td>2020</td>\n",
       "      <td>269.0</td>\n",
       "    </tr>\n",
       "    <tr>\n",
       "      <th>27976</th>\n",
       "      <td>216835.0</td>\n",
       "      <td>59300.0</td>\n",
       "      <td>34.0</td>\n",
       "      <td>2.0</td>\n",
       "      <td>2984.0</td>\n",
       "      <td>29.0</td>\n",
       "      <td>12</td>\n",
       "      <td>2020</td>\n",
       "      <td>269.0</td>\n",
       "    </tr>\n",
       "    <tr>\n",
       "      <th>27977</th>\n",
       "      <td>216835.0</td>\n",
       "      <td>59300.0</td>\n",
       "      <td>16.0</td>\n",
       "      <td>1.0</td>\n",
       "      <td>2984.0</td>\n",
       "      <td>29.0</td>\n",
       "      <td>12</td>\n",
       "      <td>2020</td>\n",
       "      <td>269.0</td>\n",
       "    </tr>\n",
       "    <tr>\n",
       "      <th>27978</th>\n",
       "      <td>216835.0</td>\n",
       "      <td>59300.0</td>\n",
       "      <td>14.0</td>\n",
       "      <td>1.0</td>\n",
       "      <td>2984.0</td>\n",
       "      <td>29.0</td>\n",
       "      <td>12</td>\n",
       "      <td>2020</td>\n",
       "      <td>269.0</td>\n",
       "    </tr>\n",
       "  </tbody>\n",
       "</table>\n",
       "<p>27979 rows × 9 columns</p>\n",
       "</div>"
      ],
      "text/plain": [
       "       Valeur fonciere  Code postal  Surface reelle bati  \\\n",
       "0             170200.0      59000.0                 49.0   \n",
       "1             219500.0      59800.0                 84.0   \n",
       "2             115000.0      59110.0                 49.0   \n",
       "3             135000.0      59110.0                 88.0   \n",
       "4             230000.0      59800.0                 73.0   \n",
       "...                ...          ...                  ...   \n",
       "27974         216835.0      59300.0                 18.0   \n",
       "27975         216835.0      59300.0                 13.0   \n",
       "27976         216835.0      59300.0                 34.0   \n",
       "27977         216835.0      59300.0                 16.0   \n",
       "27978         216835.0      59300.0                 14.0   \n",
       "\n",
       "       Nombre pieces principales  Voie_0  Type de voie_0  Mois  Annee  \\\n",
       "0                            2.0  2926.0            29.0     1   2017   \n",
       "1                            3.0  1774.0            29.0     1   2017   \n",
       "2                            2.0  2083.0            29.0     1   2017   \n",
       "3                            4.0   565.0            29.0     1   2017   \n",
       "4                            4.0  1890.0             1.0     1   2017   \n",
       "...                          ...     ...             ...   ...    ...   \n",
       "27974                        1.0  2984.0            29.0    12   2020   \n",
       "27975                        1.0  2984.0            29.0    12   2020   \n",
       "27976                        2.0  2984.0            29.0    12   2020   \n",
       "27977                        1.0  2984.0            29.0    12   2020   \n",
       "27978                        1.0  2984.0            29.0    12   2020   \n",
       "\n",
       "       Commune_0  \n",
       "0          159.0  \n",
       "1          159.0  \n",
       "2          138.0  \n",
       "3          138.0  \n",
       "4          159.0  \n",
       "...          ...  \n",
       "27974      269.0  \n",
       "27975      269.0  \n",
       "27976      269.0  \n",
       "27977      269.0  \n",
       "27978      269.0  \n",
       "\n",
       "[27979 rows x 9 columns]"
      ]
     },
     "execution_count": 42,
     "metadata": {},
     "output_type": "execute_result"
    }
   ],
   "source": [
    "#encodage en ordinal\n",
    "ordinalencoder = OrdinalEncoder()\n",
    "encoded = ordinalencoder.fit_transform(df['Commune'].values.reshape(df['Commune'].shape[0],1))\n",
    "encoded_df = pd.DataFrame(encoded,columns = ['Commune_' + str(int(i)) for i in range(encoded.shape[1])] ) \n",
    "df=df.reset_index(drop=True)\n",
    "df = pd.concat([df,encoded_df],axis=1)\n",
    "df = df.drop('Commune',axis=1) \n",
    "df"
   ]
  },
  {
   "cell_type": "code",
   "execution_count": 652,
   "metadata": {},
   "outputs": [
    {
     "data": {
      "text/html": [
       "<div>\n",
       "<style scoped>\n",
       "    .dataframe tbody tr th:only-of-type {\n",
       "        vertical-align: middle;\n",
       "    }\n",
       "\n",
       "    .dataframe tbody tr th {\n",
       "        vertical-align: top;\n",
       "    }\n",
       "\n",
       "    .dataframe thead th {\n",
       "        text-align: right;\n",
       "    }\n",
       "</style>\n",
       "<table border=\"1\" class=\"dataframe\">\n",
       "  <thead>\n",
       "    <tr style=\"text-align: right;\">\n",
       "      <th></th>\n",
       "      <th>Valeur fonciere</th>\n",
       "      <th>Code postal</th>\n",
       "      <th>Surface reelle bati</th>\n",
       "      <th>Nombre pieces principales</th>\n",
       "      <th>Voie_0</th>\n",
       "      <th>Type de voie_0</th>\n",
       "      <th>Mois</th>\n",
       "      <th>Annee</th>\n",
       "      <th>Commune_0</th>\n",
       "      <th>Commune_1</th>\n",
       "      <th>...</th>\n",
       "      <th>Commune_219</th>\n",
       "      <th>Commune_220</th>\n",
       "      <th>Commune_221</th>\n",
       "      <th>Commune_222</th>\n",
       "      <th>Commune_223</th>\n",
       "      <th>Commune_224</th>\n",
       "      <th>Commune_225</th>\n",
       "      <th>Commune_226</th>\n",
       "      <th>Commune_227</th>\n",
       "      <th>Commune_228</th>\n",
       "    </tr>\n",
       "  </thead>\n",
       "  <tbody>\n",
       "    <tr>\n",
       "      <th>0</th>\n",
       "      <td>167900.0</td>\n",
       "      <td>59000.0</td>\n",
       "      <td>54.0</td>\n",
       "      <td>2.0</td>\n",
       "      <td>262.0</td>\n",
       "      <td>25.0</td>\n",
       "      <td>1</td>\n",
       "      <td>2018</td>\n",
       "      <td>0.0</td>\n",
       "      <td>0.0</td>\n",
       "      <td>...</td>\n",
       "      <td>0.0</td>\n",
       "      <td>0.0</td>\n",
       "      <td>0.0</td>\n",
       "      <td>0.0</td>\n",
       "      <td>0.0</td>\n",
       "      <td>0.0</td>\n",
       "      <td>0.0</td>\n",
       "      <td>0.0</td>\n",
       "      <td>0.0</td>\n",
       "      <td>0.0</td>\n",
       "    </tr>\n",
       "    <tr>\n",
       "      <th>1</th>\n",
       "      <td>121240.0</td>\n",
       "      <td>59110.0</td>\n",
       "      <td>47.0</td>\n",
       "      <td>2.0</td>\n",
       "      <td>18.0</td>\n",
       "      <td>1.0</td>\n",
       "      <td>1</td>\n",
       "      <td>2018</td>\n",
       "      <td>0.0</td>\n",
       "      <td>0.0</td>\n",
       "      <td>...</td>\n",
       "      <td>0.0</td>\n",
       "      <td>0.0</td>\n",
       "      <td>0.0</td>\n",
       "      <td>0.0</td>\n",
       "      <td>0.0</td>\n",
       "      <td>0.0</td>\n",
       "      <td>0.0</td>\n",
       "      <td>0.0</td>\n",
       "      <td>0.0</td>\n",
       "      <td>0.0</td>\n",
       "    </tr>\n",
       "    <tr>\n",
       "      <th>2</th>\n",
       "      <td>173800.0</td>\n",
       "      <td>59110.0</td>\n",
       "      <td>50.0</td>\n",
       "      <td>2.0</td>\n",
       "      <td>1536.0</td>\n",
       "      <td>25.0</td>\n",
       "      <td>1</td>\n",
       "      <td>2018</td>\n",
       "      <td>0.0</td>\n",
       "      <td>0.0</td>\n",
       "      <td>...</td>\n",
       "      <td>0.0</td>\n",
       "      <td>0.0</td>\n",
       "      <td>0.0</td>\n",
       "      <td>0.0</td>\n",
       "      <td>0.0</td>\n",
       "      <td>0.0</td>\n",
       "      <td>0.0</td>\n",
       "      <td>0.0</td>\n",
       "      <td>0.0</td>\n",
       "      <td>0.0</td>\n",
       "    </tr>\n",
       "    <tr>\n",
       "      <th>3</th>\n",
       "      <td>167500.0</td>\n",
       "      <td>59260.0</td>\n",
       "      <td>55.0</td>\n",
       "      <td>3.0</td>\n",
       "      <td>888.0</td>\n",
       "      <td>25.0</td>\n",
       "      <td>1</td>\n",
       "      <td>2018</td>\n",
       "      <td>0.0</td>\n",
       "      <td>0.0</td>\n",
       "      <td>...</td>\n",
       "      <td>0.0</td>\n",
       "      <td>0.0</td>\n",
       "      <td>0.0</td>\n",
       "      <td>0.0</td>\n",
       "      <td>0.0</td>\n",
       "      <td>0.0</td>\n",
       "      <td>0.0</td>\n",
       "      <td>0.0</td>\n",
       "      <td>0.0</td>\n",
       "      <td>0.0</td>\n",
       "    </tr>\n",
       "    <tr>\n",
       "      <th>4</th>\n",
       "      <td>167500.0</td>\n",
       "      <td>59260.0</td>\n",
       "      <td>20.0</td>\n",
       "      <td>1.0</td>\n",
       "      <td>888.0</td>\n",
       "      <td>25.0</td>\n",
       "      <td>1</td>\n",
       "      <td>2018</td>\n",
       "      <td>0.0</td>\n",
       "      <td>0.0</td>\n",
       "      <td>...</td>\n",
       "      <td>0.0</td>\n",
       "      <td>0.0</td>\n",
       "      <td>0.0</td>\n",
       "      <td>0.0</td>\n",
       "      <td>0.0</td>\n",
       "      <td>0.0</td>\n",
       "      <td>0.0</td>\n",
       "      <td>0.0</td>\n",
       "      <td>0.0</td>\n",
       "      <td>0.0</td>\n",
       "    </tr>\n",
       "    <tr>\n",
       "      <th>...</th>\n",
       "      <td>...</td>\n",
       "      <td>...</td>\n",
       "      <td>...</td>\n",
       "      <td>...</td>\n",
       "      <td>...</td>\n",
       "      <td>...</td>\n",
       "      <td>...</td>\n",
       "      <td>...</td>\n",
       "      <td>...</td>\n",
       "      <td>...</td>\n",
       "      <td>...</td>\n",
       "      <td>...</td>\n",
       "      <td>...</td>\n",
       "      <td>...</td>\n",
       "      <td>...</td>\n",
       "      <td>...</td>\n",
       "      <td>...</td>\n",
       "      <td>...</td>\n",
       "      <td>...</td>\n",
       "      <td>...</td>\n",
       "      <td>...</td>\n",
       "    </tr>\n",
       "    <tr>\n",
       "      <th>14346</th>\n",
       "      <td>220000.0</td>\n",
       "      <td>59300.0</td>\n",
       "      <td>17.0</td>\n",
       "      <td>1.0</td>\n",
       "      <td>377.0</td>\n",
       "      <td>25.0</td>\n",
       "      <td>12</td>\n",
       "      <td>2019</td>\n",
       "      <td>0.0</td>\n",
       "      <td>0.0</td>\n",
       "      <td>...</td>\n",
       "      <td>0.0</td>\n",
       "      <td>0.0</td>\n",
       "      <td>0.0</td>\n",
       "      <td>0.0</td>\n",
       "      <td>0.0</td>\n",
       "      <td>0.0</td>\n",
       "      <td>0.0</td>\n",
       "      <td>0.0</td>\n",
       "      <td>0.0</td>\n",
       "      <td>0.0</td>\n",
       "    </tr>\n",
       "    <tr>\n",
       "      <th>14347</th>\n",
       "      <td>220000.0</td>\n",
       "      <td>59300.0</td>\n",
       "      <td>18.0</td>\n",
       "      <td>1.0</td>\n",
       "      <td>377.0</td>\n",
       "      <td>25.0</td>\n",
       "      <td>12</td>\n",
       "      <td>2019</td>\n",
       "      <td>0.0</td>\n",
       "      <td>0.0</td>\n",
       "      <td>...</td>\n",
       "      <td>0.0</td>\n",
       "      <td>0.0</td>\n",
       "      <td>0.0</td>\n",
       "      <td>0.0</td>\n",
       "      <td>0.0</td>\n",
       "      <td>0.0</td>\n",
       "      <td>0.0</td>\n",
       "      <td>0.0</td>\n",
       "      <td>0.0</td>\n",
       "      <td>0.0</td>\n",
       "    </tr>\n",
       "    <tr>\n",
       "      <th>14348</th>\n",
       "      <td>319000.0</td>\n",
       "      <td>59300.0</td>\n",
       "      <td>74.0</td>\n",
       "      <td>3.0</td>\n",
       "      <td>1078.0</td>\n",
       "      <td>25.0</td>\n",
       "      <td>12</td>\n",
       "      <td>2019</td>\n",
       "      <td>0.0</td>\n",
       "      <td>0.0</td>\n",
       "      <td>...</td>\n",
       "      <td>0.0</td>\n",
       "      <td>0.0</td>\n",
       "      <td>0.0</td>\n",
       "      <td>0.0</td>\n",
       "      <td>0.0</td>\n",
       "      <td>0.0</td>\n",
       "      <td>0.0</td>\n",
       "      <td>0.0</td>\n",
       "      <td>0.0</td>\n",
       "      <td>0.0</td>\n",
       "    </tr>\n",
       "    <tr>\n",
       "      <th>14349</th>\n",
       "      <td>319000.0</td>\n",
       "      <td>59300.0</td>\n",
       "      <td>49.0</td>\n",
       "      <td>2.0</td>\n",
       "      <td>1078.0</td>\n",
       "      <td>25.0</td>\n",
       "      <td>12</td>\n",
       "      <td>2019</td>\n",
       "      <td>0.0</td>\n",
       "      <td>0.0</td>\n",
       "      <td>...</td>\n",
       "      <td>0.0</td>\n",
       "      <td>0.0</td>\n",
       "      <td>0.0</td>\n",
       "      <td>0.0</td>\n",
       "      <td>0.0</td>\n",
       "      <td>0.0</td>\n",
       "      <td>0.0</td>\n",
       "      <td>0.0</td>\n",
       "      <td>0.0</td>\n",
       "      <td>0.0</td>\n",
       "    </tr>\n",
       "    <tr>\n",
       "      <th>14350</th>\n",
       "      <td>154700.0</td>\n",
       "      <td>59300.0</td>\n",
       "      <td>44.0</td>\n",
       "      <td>2.0</td>\n",
       "      <td>960.0</td>\n",
       "      <td>19.0</td>\n",
       "      <td>12</td>\n",
       "      <td>2019</td>\n",
       "      <td>0.0</td>\n",
       "      <td>0.0</td>\n",
       "      <td>...</td>\n",
       "      <td>0.0</td>\n",
       "      <td>0.0</td>\n",
       "      <td>0.0</td>\n",
       "      <td>0.0</td>\n",
       "      <td>0.0</td>\n",
       "      <td>0.0</td>\n",
       "      <td>0.0</td>\n",
       "      <td>0.0</td>\n",
       "      <td>0.0</td>\n",
       "      <td>0.0</td>\n",
       "    </tr>\n",
       "  </tbody>\n",
       "</table>\n",
       "<p>14351 rows × 237 columns</p>\n",
       "</div>"
      ],
      "text/plain": [
       "       Valeur fonciere  Code postal  Surface reelle bati  \\\n",
       "0             167900.0      59000.0                 54.0   \n",
       "1             121240.0      59110.0                 47.0   \n",
       "2             173800.0      59110.0                 50.0   \n",
       "3             167500.0      59260.0                 55.0   \n",
       "4             167500.0      59260.0                 20.0   \n",
       "...                ...          ...                  ...   \n",
       "14346         220000.0      59300.0                 17.0   \n",
       "14347         220000.0      59300.0                 18.0   \n",
       "14348         319000.0      59300.0                 74.0   \n",
       "14349         319000.0      59300.0                 49.0   \n",
       "14350         154700.0      59300.0                 44.0   \n",
       "\n",
       "       Nombre pieces principales  Voie_0  Type de voie_0  Mois  Annee  \\\n",
       "0                            2.0   262.0            25.0     1   2018   \n",
       "1                            2.0    18.0             1.0     1   2018   \n",
       "2                            2.0  1536.0            25.0     1   2018   \n",
       "3                            3.0   888.0            25.0     1   2018   \n",
       "4                            1.0   888.0            25.0     1   2018   \n",
       "...                          ...     ...             ...   ...    ...   \n",
       "14346                        1.0   377.0            25.0    12   2019   \n",
       "14347                        1.0   377.0            25.0    12   2019   \n",
       "14348                        3.0  1078.0            25.0    12   2019   \n",
       "14349                        2.0  1078.0            25.0    12   2019   \n",
       "14350                        2.0   960.0            19.0    12   2019   \n",
       "\n",
       "       Commune_0  Commune_1  ...  Commune_219  Commune_220  Commune_221  \\\n",
       "0            0.0        0.0  ...          0.0          0.0          0.0   \n",
       "1            0.0        0.0  ...          0.0          0.0          0.0   \n",
       "2            0.0        0.0  ...          0.0          0.0          0.0   \n",
       "3            0.0        0.0  ...          0.0          0.0          0.0   \n",
       "4            0.0        0.0  ...          0.0          0.0          0.0   \n",
       "...          ...        ...  ...          ...          ...          ...   \n",
       "14346        0.0        0.0  ...          0.0          0.0          0.0   \n",
       "14347        0.0        0.0  ...          0.0          0.0          0.0   \n",
       "14348        0.0        0.0  ...          0.0          0.0          0.0   \n",
       "14349        0.0        0.0  ...          0.0          0.0          0.0   \n",
       "14350        0.0        0.0  ...          0.0          0.0          0.0   \n",
       "\n",
       "       Commune_222  Commune_223  Commune_224  Commune_225  Commune_226  \\\n",
       "0              0.0          0.0          0.0          0.0          0.0   \n",
       "1              0.0          0.0          0.0          0.0          0.0   \n",
       "2              0.0          0.0          0.0          0.0          0.0   \n",
       "3              0.0          0.0          0.0          0.0          0.0   \n",
       "4              0.0          0.0          0.0          0.0          0.0   \n",
       "...            ...          ...          ...          ...          ...   \n",
       "14346          0.0          0.0          0.0          0.0          0.0   \n",
       "14347          0.0          0.0          0.0          0.0          0.0   \n",
       "14348          0.0          0.0          0.0          0.0          0.0   \n",
       "14349          0.0          0.0          0.0          0.0          0.0   \n",
       "14350          0.0          0.0          0.0          0.0          0.0   \n",
       "\n",
       "       Commune_227  Commune_228  \n",
       "0              0.0          0.0  \n",
       "1              0.0          0.0  \n",
       "2              0.0          0.0  \n",
       "3              0.0          0.0  \n",
       "4              0.0          0.0  \n",
       "...            ...          ...  \n",
       "14346          0.0          0.0  \n",
       "14347          0.0          0.0  \n",
       "14348          0.0          0.0  \n",
       "14349          0.0          0.0  \n",
       "14350          0.0          0.0  \n",
       "\n",
       "[14351 rows x 237 columns]"
      ]
     },
     "execution_count": 652,
     "metadata": {},
     "output_type": "execute_result"
    }
   ],
   "source": [
    "#encodage onehot sur les communes\n",
    "encoded = onehotencoder.fit_transform(df['Commune'].values.reshape(df['Commune'].shape[0],1))\n",
    "encoded_df = pd.DataFrame(encoded,columns = ['Commune_' + str(int(i)) for i in range(encoded.shape[1])] ) \n",
    "df=df.reset_index(drop=True)\n",
    "df = pd.concat([df,encoded_df],axis=1)\n",
    "df = df.drop('Commune',axis=1) \n",
    "df"
   ]
  },
  {
   "cell_type": "code",
   "execution_count": 284,
   "metadata": {},
   "outputs": [
    {
     "data": {
      "text/plain": [
       "2019    7513\n",
       "2018    6838\n",
       "Name: Annee, dtype: int64"
      ]
     },
     "execution_count": 284,
     "metadata": {},
     "output_type": "execute_result"
    }
   ],
   "source": [
    "df['Annee'].value_counts()"
   ]
  },
  {
   "cell_type": "code",
   "execution_count": 12,
   "metadata": {},
   "outputs": [],
   "source": [
    "from scipy import stats\n",
    "#df[(np.abs(stats.zscore(df)) < 3).all(axis=1)] #pour filtrer les outliers selon le score Z(calculer avec moyenne et ecart type)\n"
   ]
  },
  {
   "cell_type": "code",
   "execution_count": 43,
   "metadata": {},
   "outputs": [],
   "source": [
    "df = df[(np.abs(stats.zscore(df)) < 2.5).all(axis=1)] #pour filtrer les outliers selon le score Z(calculer avec moyenne et ecart type)\n"
   ]
  },
  {
   "cell_type": "code",
   "execution_count": 44,
   "metadata": {},
   "outputs": [
    {
     "data": {
      "text/html": [
       "<div>\n",
       "<style scoped>\n",
       "    .dataframe tbody tr th:only-of-type {\n",
       "        vertical-align: middle;\n",
       "    }\n",
       "\n",
       "    .dataframe tbody tr th {\n",
       "        vertical-align: top;\n",
       "    }\n",
       "\n",
       "    .dataframe thead th {\n",
       "        text-align: right;\n",
       "    }\n",
       "</style>\n",
       "<table border=\"1\" class=\"dataframe\">\n",
       "  <thead>\n",
       "    <tr style=\"text-align: right;\">\n",
       "      <th></th>\n",
       "      <th>Valeur fonciere</th>\n",
       "      <th>Code postal</th>\n",
       "      <th>Surface reelle bati</th>\n",
       "      <th>Nombre pieces principales</th>\n",
       "      <th>Voie_0</th>\n",
       "      <th>Type de voie_0</th>\n",
       "      <th>Mois</th>\n",
       "      <th>Annee</th>\n",
       "      <th>Commune_0</th>\n",
       "    </tr>\n",
       "  </thead>\n",
       "  <tbody>\n",
       "    <tr>\n",
       "      <th>0</th>\n",
       "      <td>170200.0</td>\n",
       "      <td>59000.0</td>\n",
       "      <td>49.0</td>\n",
       "      <td>2.0</td>\n",
       "      <td>2926.0</td>\n",
       "      <td>29.0</td>\n",
       "      <td>1</td>\n",
       "      <td>2017</td>\n",
       "      <td>159.0</td>\n",
       "    </tr>\n",
       "    <tr>\n",
       "      <th>1</th>\n",
       "      <td>219500.0</td>\n",
       "      <td>59800.0</td>\n",
       "      <td>84.0</td>\n",
       "      <td>3.0</td>\n",
       "      <td>1774.0</td>\n",
       "      <td>29.0</td>\n",
       "      <td>1</td>\n",
       "      <td>2017</td>\n",
       "      <td>159.0</td>\n",
       "    </tr>\n",
       "    <tr>\n",
       "      <th>2</th>\n",
       "      <td>115000.0</td>\n",
       "      <td>59110.0</td>\n",
       "      <td>49.0</td>\n",
       "      <td>2.0</td>\n",
       "      <td>2083.0</td>\n",
       "      <td>29.0</td>\n",
       "      <td>1</td>\n",
       "      <td>2017</td>\n",
       "      <td>138.0</td>\n",
       "    </tr>\n",
       "    <tr>\n",
       "      <th>3</th>\n",
       "      <td>135000.0</td>\n",
       "      <td>59110.0</td>\n",
       "      <td>88.0</td>\n",
       "      <td>4.0</td>\n",
       "      <td>565.0</td>\n",
       "      <td>29.0</td>\n",
       "      <td>1</td>\n",
       "      <td>2017</td>\n",
       "      <td>138.0</td>\n",
       "    </tr>\n",
       "    <tr>\n",
       "      <th>4</th>\n",
       "      <td>230000.0</td>\n",
       "      <td>59800.0</td>\n",
       "      <td>73.0</td>\n",
       "      <td>4.0</td>\n",
       "      <td>1890.0</td>\n",
       "      <td>1.0</td>\n",
       "      <td>1</td>\n",
       "      <td>2017</td>\n",
       "      <td>159.0</td>\n",
       "    </tr>\n",
       "    <tr>\n",
       "      <th>...</th>\n",
       "      <td>...</td>\n",
       "      <td>...</td>\n",
       "      <td>...</td>\n",
       "      <td>...</td>\n",
       "      <td>...</td>\n",
       "      <td>...</td>\n",
       "      <td>...</td>\n",
       "      <td>...</td>\n",
       "      <td>...</td>\n",
       "    </tr>\n",
       "    <tr>\n",
       "      <th>27974</th>\n",
       "      <td>216835.0</td>\n",
       "      <td>59300.0</td>\n",
       "      <td>18.0</td>\n",
       "      <td>1.0</td>\n",
       "      <td>2984.0</td>\n",
       "      <td>29.0</td>\n",
       "      <td>12</td>\n",
       "      <td>2020</td>\n",
       "      <td>269.0</td>\n",
       "    </tr>\n",
       "    <tr>\n",
       "      <th>27975</th>\n",
       "      <td>216835.0</td>\n",
       "      <td>59300.0</td>\n",
       "      <td>13.0</td>\n",
       "      <td>1.0</td>\n",
       "      <td>2984.0</td>\n",
       "      <td>29.0</td>\n",
       "      <td>12</td>\n",
       "      <td>2020</td>\n",
       "      <td>269.0</td>\n",
       "    </tr>\n",
       "    <tr>\n",
       "      <th>27976</th>\n",
       "      <td>216835.0</td>\n",
       "      <td>59300.0</td>\n",
       "      <td>34.0</td>\n",
       "      <td>2.0</td>\n",
       "      <td>2984.0</td>\n",
       "      <td>29.0</td>\n",
       "      <td>12</td>\n",
       "      <td>2020</td>\n",
       "      <td>269.0</td>\n",
       "    </tr>\n",
       "    <tr>\n",
       "      <th>27977</th>\n",
       "      <td>216835.0</td>\n",
       "      <td>59300.0</td>\n",
       "      <td>16.0</td>\n",
       "      <td>1.0</td>\n",
       "      <td>2984.0</td>\n",
       "      <td>29.0</td>\n",
       "      <td>12</td>\n",
       "      <td>2020</td>\n",
       "      <td>269.0</td>\n",
       "    </tr>\n",
       "    <tr>\n",
       "      <th>27978</th>\n",
       "      <td>216835.0</td>\n",
       "      <td>59300.0</td>\n",
       "      <td>14.0</td>\n",
       "      <td>1.0</td>\n",
       "      <td>2984.0</td>\n",
       "      <td>29.0</td>\n",
       "      <td>12</td>\n",
       "      <td>2020</td>\n",
       "      <td>269.0</td>\n",
       "    </tr>\n",
       "  </tbody>\n",
       "</table>\n",
       "<p>25802 rows × 9 columns</p>\n",
       "</div>"
      ],
      "text/plain": [
       "       Valeur fonciere  Code postal  Surface reelle bati  \\\n",
       "0             170200.0      59000.0                 49.0   \n",
       "1             219500.0      59800.0                 84.0   \n",
       "2             115000.0      59110.0                 49.0   \n",
       "3             135000.0      59110.0                 88.0   \n",
       "4             230000.0      59800.0                 73.0   \n",
       "...                ...          ...                  ...   \n",
       "27974         216835.0      59300.0                 18.0   \n",
       "27975         216835.0      59300.0                 13.0   \n",
       "27976         216835.0      59300.0                 34.0   \n",
       "27977         216835.0      59300.0                 16.0   \n",
       "27978         216835.0      59300.0                 14.0   \n",
       "\n",
       "       Nombre pieces principales  Voie_0  Type de voie_0  Mois  Annee  \\\n",
       "0                            2.0  2926.0            29.0     1   2017   \n",
       "1                            3.0  1774.0            29.0     1   2017   \n",
       "2                            2.0  2083.0            29.0     1   2017   \n",
       "3                            4.0   565.0            29.0     1   2017   \n",
       "4                            4.0  1890.0             1.0     1   2017   \n",
       "...                          ...     ...             ...   ...    ...   \n",
       "27974                        1.0  2984.0            29.0    12   2020   \n",
       "27975                        1.0  2984.0            29.0    12   2020   \n",
       "27976                        2.0  2984.0            29.0    12   2020   \n",
       "27977                        1.0  2984.0            29.0    12   2020   \n",
       "27978                        1.0  2984.0            29.0    12   2020   \n",
       "\n",
       "       Commune_0  \n",
       "0          159.0  \n",
       "1          159.0  \n",
       "2          138.0  \n",
       "3          138.0  \n",
       "4          159.0  \n",
       "...          ...  \n",
       "27974      269.0  \n",
       "27975      269.0  \n",
       "27976      269.0  \n",
       "27977      269.0  \n",
       "27978      269.0  \n",
       "\n",
       "[25802 rows x 9 columns]"
      ]
     },
     "execution_count": 44,
     "metadata": {},
     "output_type": "execute_result"
    }
   ],
   "source": [
    "df"
   ]
  },
  {
   "cell_type": "markdown",
   "metadata": {},
   "source": [
    " # Création d'un premier modèle : Prix d'un appartement"
   ]
  },
  {
   "cell_type": "code",
   "execution_count": 15,
   "metadata": {},
   "outputs": [],
   "source": [
    "from sklearn.model_selection import train_test_split"
   ]
  },
  {
   "cell_type": "code",
   "execution_count": 45,
   "metadata": {},
   "outputs": [],
   "source": [
    "trainset, testset = train_test_split(df,test_size=0.2,random_state=0)"
   ]
  },
  {
   "cell_type": "code",
   "execution_count": 46,
   "metadata": {},
   "outputs": [],
   "source": [
    "y_test = testset['Valeur fonciere']\n",
    "y_train = trainset['Valeur fonciere']\n",
    "\n",
    "X_test = testset.drop('Valeur fonciere',axis=1)\n",
    "X_train = trainset.drop('Valeur fonciere',axis=1)\n"
   ]
  },
  {
   "cell_type": "code",
   "execution_count": 47,
   "metadata": {},
   "outputs": [
    {
     "data": {
      "text/html": [
       "<div>\n",
       "<style scoped>\n",
       "    .dataframe tbody tr th:only-of-type {\n",
       "        vertical-align: middle;\n",
       "    }\n",
       "\n",
       "    .dataframe tbody tr th {\n",
       "        vertical-align: top;\n",
       "    }\n",
       "\n",
       "    .dataframe thead th {\n",
       "        text-align: right;\n",
       "    }\n",
       "</style>\n",
       "<table border=\"1\" class=\"dataframe\">\n",
       "  <thead>\n",
       "    <tr style=\"text-align: right;\">\n",
       "      <th></th>\n",
       "      <th>Code postal</th>\n",
       "      <th>Surface reelle bati</th>\n",
       "      <th>Nombre pieces principales</th>\n",
       "      <th>Voie_0</th>\n",
       "      <th>Type de voie_0</th>\n",
       "      <th>Mois</th>\n",
       "      <th>Annee</th>\n",
       "      <th>Commune_0</th>\n",
       "    </tr>\n",
       "  </thead>\n",
       "  <tbody>\n",
       "    <tr>\n",
       "      <th>19751</th>\n",
       "      <td>59129.0</td>\n",
       "      <td>32.0</td>\n",
       "      <td>3.0</td>\n",
       "      <td>3175.0</td>\n",
       "      <td>29.0</td>\n",
       "      <td>3</td>\n",
       "      <td>2019</td>\n",
       "      <td>19.0</td>\n",
       "    </tr>\n",
       "    <tr>\n",
       "      <th>20769</th>\n",
       "      <td>59800.0</td>\n",
       "      <td>80.0</td>\n",
       "      <td>3.0</td>\n",
       "      <td>144.0</td>\n",
       "      <td>29.0</td>\n",
       "      <td>1</td>\n",
       "      <td>2020</td>\n",
       "      <td>159.0</td>\n",
       "    </tr>\n",
       "    <tr>\n",
       "      <th>22817</th>\n",
       "      <td>59800.0</td>\n",
       "      <td>61.0</td>\n",
       "      <td>3.0</td>\n",
       "      <td>841.0</td>\n",
       "      <td>29.0</td>\n",
       "      <td>10</td>\n",
       "      <td>2020</td>\n",
       "      <td>159.0</td>\n",
       "    </tr>\n",
       "    <tr>\n",
       "      <th>1581</th>\n",
       "      <td>59000.0</td>\n",
       "      <td>29.0</td>\n",
       "      <td>2.0</td>\n",
       "      <td>2164.0</td>\n",
       "      <td>29.0</td>\n",
       "      <td>7</td>\n",
       "      <td>2017</td>\n",
       "      <td>159.0</td>\n",
       "    </tr>\n",
       "    <tr>\n",
       "      <th>6758</th>\n",
       "      <td>59000.0</td>\n",
       "      <td>12.0</td>\n",
       "      <td>1.0</td>\n",
       "      <td>885.0</td>\n",
       "      <td>29.0</td>\n",
       "      <td>3</td>\n",
       "      <td>2018</td>\n",
       "      <td>159.0</td>\n",
       "    </tr>\n",
       "    <tr>\n",
       "      <th>...</th>\n",
       "      <td>...</td>\n",
       "      <td>...</td>\n",
       "      <td>...</td>\n",
       "      <td>...</td>\n",
       "      <td>...</td>\n",
       "      <td>...</td>\n",
       "      <td>...</td>\n",
       "      <td>...</td>\n",
       "    </tr>\n",
       "    <tr>\n",
       "      <th>14083</th>\n",
       "      <td>59800.0</td>\n",
       "      <td>56.0</td>\n",
       "      <td>2.0</td>\n",
       "      <td>3258.0</td>\n",
       "      <td>29.0</td>\n",
       "      <td>5</td>\n",
       "      <td>2019</td>\n",
       "      <td>159.0</td>\n",
       "    </tr>\n",
       "    <tr>\n",
       "      <th>743</th>\n",
       "      <td>59800.0</td>\n",
       "      <td>44.0</td>\n",
       "      <td>2.0</td>\n",
       "      <td>1401.0</td>\n",
       "      <td>29.0</td>\n",
       "      <td>4</td>\n",
       "      <td>2017</td>\n",
       "      <td>159.0</td>\n",
       "    </tr>\n",
       "    <tr>\n",
       "      <th>26195</th>\n",
       "      <td>59270.0</td>\n",
       "      <td>50.0</td>\n",
       "      <td>2.0</td>\n",
       "      <td>2006.0</td>\n",
       "      <td>29.0</td>\n",
       "      <td>10</td>\n",
       "      <td>2020</td>\n",
       "      <td>21.0</td>\n",
       "    </tr>\n",
       "    <tr>\n",
       "      <th>1160</th>\n",
       "      <td>59000.0</td>\n",
       "      <td>15.0</td>\n",
       "      <td>1.0</td>\n",
       "      <td>3380.0</td>\n",
       "      <td>2.0</td>\n",
       "      <td>6</td>\n",
       "      <td>2017</td>\n",
       "      <td>159.0</td>\n",
       "    </tr>\n",
       "    <tr>\n",
       "      <th>27304</th>\n",
       "      <td>59300.0</td>\n",
       "      <td>20.0</td>\n",
       "      <td>1.0</td>\n",
       "      <td>3141.0</td>\n",
       "      <td>29.0</td>\n",
       "      <td>2</td>\n",
       "      <td>2020</td>\n",
       "      <td>86.0</td>\n",
       "    </tr>\n",
       "  </tbody>\n",
       "</table>\n",
       "<p>5161 rows × 8 columns</p>\n",
       "</div>"
      ],
      "text/plain": [
       "       Code postal  Surface reelle bati  Nombre pieces principales  Voie_0  \\\n",
       "19751      59129.0                 32.0                        3.0  3175.0   \n",
       "20769      59800.0                 80.0                        3.0   144.0   \n",
       "22817      59800.0                 61.0                        3.0   841.0   \n",
       "1581       59000.0                 29.0                        2.0  2164.0   \n",
       "6758       59000.0                 12.0                        1.0   885.0   \n",
       "...            ...                  ...                        ...     ...   \n",
       "14083      59800.0                 56.0                        2.0  3258.0   \n",
       "743        59800.0                 44.0                        2.0  1401.0   \n",
       "26195      59270.0                 50.0                        2.0  2006.0   \n",
       "1160       59000.0                 15.0                        1.0  3380.0   \n",
       "27304      59300.0                 20.0                        1.0  3141.0   \n",
       "\n",
       "       Type de voie_0  Mois  Annee  Commune_0  \n",
       "19751            29.0     3   2019       19.0  \n",
       "20769            29.0     1   2020      159.0  \n",
       "22817            29.0    10   2020      159.0  \n",
       "1581             29.0     7   2017      159.0  \n",
       "6758             29.0     3   2018      159.0  \n",
       "...               ...   ...    ...        ...  \n",
       "14083            29.0     5   2019      159.0  \n",
       "743              29.0     4   2017      159.0  \n",
       "26195            29.0    10   2020       21.0  \n",
       "1160              2.0     6   2017      159.0  \n",
       "27304            29.0     2   2020       86.0  \n",
       "\n",
       "[5161 rows x 8 columns]"
      ]
     },
     "execution_count": 47,
     "metadata": {},
     "output_type": "execute_result"
    }
   ],
   "source": [
    "X_test"
   ]
  },
  {
   "cell_type": "code",
   "execution_count": 288,
   "metadata": {},
   "outputs": [
    {
     "data": {
      "text/plain": [
       "<AxesSubplot:>"
      ]
     },
     "execution_count": 288,
     "metadata": {},
     "output_type": "execute_result"
    },
    {
     "data": {
      "image/png": "[encoded data removed]",
      "text/plain": [
       "<Figure size 432x288 with 1 Axes>"
      ]
     },
     "metadata": {
      "needs_background": "light"
     },
     "output_type": "display_data"
    }
   ],
   "source": [
    "sns.heatmap(df.isna(),cbar=False)"
   ]
  },
  {
   "cell_type": "code",
   "execution_count": 195,
   "metadata": {},
   "outputs": [
    {
     "data": {
      "text/plain": [
       "No disposition               0\n",
       "Valeur fonciere              0\n",
       "Code postal                  0\n",
       "Commune                      0\n",
       "Surface reelle bati          0\n",
       "Nombre pieces principales    0\n",
       "Voie_0                       0\n",
       "Type de voie_0               0\n",
       "Mois                         0\n",
       "Annee                        0\n",
       "dtype: int64"
      ]
     },
     "execution_count": 195,
     "metadata": {},
     "output_type": "execute_result"
    }
   ],
   "source": [
    "df.isna().sum()"
   ]
  },
  {
   "cell_type": "markdown",
   "metadata": {},
   "source": []
  },
  {
   "cell_type": "code",
   "execution_count": 136,
   "metadata": {},
   "outputs": [],
   "source": []
  },
  {
   "cell_type": "code",
   "execution_count": 686,
   "metadata": {},
   "outputs": [
    {
     "data": {
      "text/plain": [
       "1    14142\n",
       "2      187\n",
       "3       16\n",
       "5        6\n",
       "Name: No disposition, dtype: int64"
      ]
     },
     "execution_count": 686,
     "metadata": {},
     "output_type": "execute_result"
    }
   ],
   "source": [
    "df['No disposition'].value_counts()"
   ]
  },
  {
   "cell_type": "code",
   "execution_count": 169,
   "metadata": {},
   "outputs": [
    {
     "data": {
      "text/plain": [
       "pandas.core.frame.DataFrame"
      ]
     },
     "execution_count": 169,
     "metadata": {},
     "output_type": "execute_result"
    }
   ],
   "source": [
    "type(df)"
   ]
  },
  {
   "cell_type": "markdown",
   "metadata": {},
   "source": [
    "onehotencoder = OneHotEncoder()\n",
    "#reshape the 1-D country array to 2-D as fit_transform expects 2-D and finally fit the object \n",
    "M = onehotencoder.fit_transform(df['Voie'].values.reshape(-1,1)).toarray()\n",
    "#To add this back into the original dataframe \n",
    "dfOneHot = pd.DataFrame(M, columns = [\"Voie_\"+str(int(i)) for i in range(df.shape[i])]) \n",
    "df = pd.concat([df, dfOneHot], axis=1)\n",
    "#droping the country column \n",
    "df= df.drop(['Voie'], axis=1) \n",
    "#printing to verify \n",
    "print(df.head())"
   ]
  },
  {
   "cell_type": "code",
   "execution_count": null,
   "metadata": {},
   "outputs": [],
   "source": []
  },
  {
   "cell_type": "code",
   "execution_count": 19,
   "metadata": {},
   "outputs": [],
   "source": [
    "from sklearn.ensemble import RandomForestRegressor\n"
   ]
  },
  {
   "cell_type": "code",
   "execution_count": 20,
   "metadata": {},
   "outputs": [],
   "source": [
    "model = RandomForestRegressor(n_estimators=100,random_state=0)\n"
   ]
  },
  {
   "cell_type": "code",
   "execution_count": 21,
   "metadata": {},
   "outputs": [
    {
     "data": {
      "text/plain": [
       "RandomForestRegressor(random_state=0)"
      ]
     },
     "execution_count": 21,
     "metadata": {},
     "output_type": "execute_result"
    }
   ],
   "source": [
    "model.fit(X_train,y_train)"
   ]
  },
  {
   "cell_type": "code",
   "execution_count": 22,
   "metadata": {},
   "outputs": [
    {
     "data": {
      "text/plain": [
       "array([0.10827486, 0.17447546, 0.31513048, 0.1430311 , 0.11780595])"
      ]
     },
     "execution_count": 22,
     "metadata": {},
     "output_type": "execute_result"
    }
   ],
   "source": [
    "model.feature_importances_[model.feature_importances_ > 0.1]"
   ]
  },
  {
   "cell_type": "code",
   "execution_count": null,
   "metadata": {},
   "outputs": [],
   "source": []
  },
  {
   "cell_type": "code",
   "execution_count": 23,
   "metadata": {},
   "outputs": [],
   "source": [
    "y_pred = model.predict(X_test)\n"
   ]
  },
  {
   "cell_type": "code",
   "execution_count": 24,
   "metadata": {},
   "outputs": [
    {
     "data": {
      "text/plain": [
       "83010.03949528969"
      ]
     },
     "execution_count": 24,
     "metadata": {},
     "output_type": "execute_result"
    }
   ],
   "source": [
    "from sklearn.metrics import mean_squared_error\n",
    "from math import sqrt\n",
    "rmse = sqrt(mean_squared_error(y_test,y_pred))\n",
    "rmse\n",
    "#rmse de 124k avec les rues(en ordinal), dates et type de voie\n",
    "#rmse de 98k avec le 59, encodage ordinal sur les rues et onehot sur les types de voie, n_esti=100\n",
    "#rmse de 95k avec le 59, encodage onehot sur les rues et onehot sur les types de voie, n_esti=100"
   ]
  },
  {
   "cell_type": "markdown",
   "metadata": {},
   "source": [
    "Cherchons à interpréter le RMSE ici"
   ]
  },
  {
   "cell_type": "code",
   "execution_count": 208,
   "metadata": {},
   "outputs": [
    {
     "data": {
      "text/plain": [
       "262748.76119070686"
      ]
     },
     "execution_count": 208,
     "metadata": {},
     "output_type": "execute_result"
    }
   ],
   "source": [
    "y_test.mean()"
   ]
  },
  {
   "cell_type": "code",
   "execution_count": 209,
   "metadata": {},
   "outputs": [
    {
     "data": {
      "text/plain": [
       "37.17853502645564"
      ]
     },
     "execution_count": 209,
     "metadata": {},
     "output_type": "execute_result"
    }
   ],
   "source": [
    "#on affiche le pourcentage d'erreur moyen en prenant la moyenne des predictions et la moyenne des valeurs attendues (un rmse seul ne veut pas dire grand chose)\n",
    "(rmse/y_test.mean()) * 100\n",
    "#on avait 65% au depart \n",
    "#42% apres avoir ajoute les rues !! (encodees en onehot)\n",
    "#38% avec tout le 59"
   ]
  },
  {
   "cell_type": "code",
   "execution_count": null,
   "metadata": {},
   "outputs": [],
   "source": []
  },
  {
   "cell_type": "markdown",
   "metadata": {},
   "source": [
    "# On compare avec un modele Bridge qui n a pas l air beaucoup plus efficace on va comparer les learning curve"
   ]
  },
  {
   "cell_type": "code",
   "execution_count": 36,
   "metadata": {},
   "outputs": [],
   "source": [
    "from sklearn.linear_model import Ridge"
   ]
  },
  {
   "cell_type": "code",
   "execution_count": 37,
   "metadata": {},
   "outputs": [],
   "source": [
    "model_2 = Ridge(alpha=1)"
   ]
  },
  {
   "cell_type": "code",
   "execution_count": 38,
   "metadata": {},
   "outputs": [
    {
     "data": {
      "text/plain": [
       "Ridge(alpha=1)"
      ]
     },
     "execution_count": 38,
     "metadata": {},
     "output_type": "execute_result"
    }
   ],
   "source": [
    "model_2.fit(X_train,y_train)"
   ]
  },
  {
   "cell_type": "code",
   "execution_count": 39,
   "metadata": {},
   "outputs": [],
   "source": [
    "y_pred = model_2.predict(X_test)\n"
   ]
  },
  {
   "cell_type": "code",
   "execution_count": 40,
   "metadata": {},
   "outputs": [
    {
     "data": {
      "text/plain": [
       "172358.17825228226"
      ]
     },
     "execution_count": 40,
     "metadata": {},
     "output_type": "execute_result"
    }
   ],
   "source": [
    "rmse = sqrt(mean_squared_error(y_test,y_pred))\n",
    "rmse"
   ]
  },
  {
   "cell_type": "code",
   "execution_count": 41,
   "metadata": {},
   "outputs": [
    {
     "data": {
      "text/plain": [
       "259710.46393242775"
      ]
     },
     "execution_count": 41,
     "metadata": {},
     "output_type": "execute_result"
    }
   ],
   "source": [
    "y_test.mean()"
   ]
  },
  {
   "cell_type": "code",
   "execution_count": 42,
   "metadata": {},
   "outputs": [
    {
     "data": {
      "text/plain": [
       "66.36551167115351"
      ]
     },
     "execution_count": 42,
     "metadata": {},
     "output_type": "execute_result"
    }
   ],
   "source": [
    "(rmse/y_test.mean()) * 100\n"
   ]
  },
  {
   "cell_type": "markdown",
   "metadata": {},
   "source": [
    "# On va essayer un modele de regression lineaire cette fois"
   ]
  },
  {
   "cell_type": "code",
   "execution_count": 381,
   "metadata": {},
   "outputs": [],
   "source": [
    "from sklearn.linear_model import LinearRegression"
   ]
  },
  {
   "cell_type": "code",
   "execution_count": 295,
   "metadata": {},
   "outputs": [],
   "source": [
    "model_3 = LinearRegression()"
   ]
  },
  {
   "cell_type": "code",
   "execution_count": 296,
   "metadata": {},
   "outputs": [
    {
     "data": {
      "text/plain": [
       "180080.0743116637"
      ]
     },
     "execution_count": 296,
     "metadata": {},
     "output_type": "execute_result"
    }
   ],
   "source": [
    "model_3.fit(X_train,y_train)\n",
    "y_pred = model_3.predict(X_test)\n",
    "rmse = sqrt(mean_squared_error(y_test,y_pred))\n",
    "rmse"
   ]
  },
  {
   "cell_type": "code",
   "execution_count": 297,
   "metadata": {},
   "outputs": [
    {
     "data": {
      "text/plain": [
       "68.00513902433734"
      ]
     },
     "execution_count": 297,
     "metadata": {},
     "output_type": "execute_result"
    }
   ],
   "source": [
    "(rmse/y_test.mean()) * 100\n",
    "#66% c'est beaucoup moins bon que le modele de RandomForest"
   ]
  },
  {
   "cell_type": "code",
   "execution_count": null,
   "metadata": {},
   "outputs": [],
   "source": []
  },
  {
   "cell_type": "code",
   "execution_count": null,
   "metadata": {},
   "outputs": [],
   "source": []
  },
  {
   "cell_type": "code",
   "execution_count": null,
   "metadata": {},
   "outputs": [],
   "source": []
  },
  {
   "cell_type": "code",
   "execution_count": 28,
   "metadata": {},
   "outputs": [],
   "source": [
    "from sklearn.model_selection import learning_curve"
   ]
  },
  {
   "cell_type": "code",
   "execution_count": 223,
   "metadata": {},
   "outputs": [],
   "source": [
    "N, train_score, val_score = learning_curve(model, X_train, y_train,\n",
    "                                              cv=4, scoring='neg_mean_squared_error',\n",
    "                                               train_sizes=np.linspace(0.1, 1, 10))"
   ]
  },
  {
   "cell_type": "code",
   "execution_count": 224,
   "metadata": {},
   "outputs": [
    {
     "data": {
      "text/plain": [
       "<matplotlib.legend.Legend at 0x1e23010a520>"
      ]
     },
     "execution_count": 224,
     "metadata": {},
     "output_type": "execute_result"
    },
    {
     "data": {
      "image/png": "[encoded data removed]",
      "text/plain": [
       "<Figure size 864x576 with 1 Axes>"
      ]
     },
     "metadata": {
      "needs_background": "light"
     },
     "output_type": "display_data"
    }
   ],
   "source": [
    "plt.figure(figsize=(12, 8))\n",
    "plt.plot(N, train_score.mean(axis=1), label='train score')\n",
    "plt.plot(N, val_score.mean(axis=1), label='validation score')\n",
    "plt.legend()\n",
    "    "
   ]
  },
  {
   "cell_type": "code",
   "execution_count": 480,
   "metadata": {},
   "outputs": [],
   "source": [
    "\n",
    "#Courbe apprentissage pour le Bridge\n",
    "N, train_score, val_score = learning_curve(model_2, X_train, y_train,\n",
    "                                              cv=4, scoring='neg_mean_squared_error',\n",
    "                                               train_sizes=np.linspace(0.1, 1, 10))"
   ]
  },
  {
   "cell_type": "code",
   "execution_count": 481,
   "metadata": {},
   "outputs": [
    {
     "data": {
      "text/plain": [
       "<matplotlib.legend.Legend at 0x257860f0af0>"
      ]
     },
     "execution_count": 481,
     "metadata": {},
     "output_type": "execute_result"
    },
    {
     "data": {
      "image/png": "[encoded data removed]",
      "text/plain": [
       "<Figure size 864x576 with 1 Axes>"
      ]
     },
     "metadata": {
      "needs_background": "light"
     },
     "output_type": "display_data"
    }
   ],
   "source": [
    "plt.figure(figsize=(12, 8))\n",
    "plt.plot(N, train_score.mean(axis=1), label='train score')\n",
    "plt.plot(N, val_score.mean(axis=1), label='validation score')\n",
    "plt.legend()\n",
    "#Au vu de la courbe on va abandonner le modele de Bridge qui semble peu prometteur"
   ]
  },
  {
   "cell_type": "code",
   "execution_count": 49,
   "metadata": {},
   "outputs": [],
   "source": [
    "#Courbe apprentissage pour le LinearRegression\n",
    "N, train_score, val_score = learning_curve(model_3, X_train, y_train,\n",
    "                                              cv=4, scoring='neg_mean_squared_error',\n",
    "                                               train_sizes=np.linspace(0.1, 1, 10))"
   ]
  },
  {
   "cell_type": "code",
   "execution_count": 50,
   "metadata": {},
   "outputs": [
    {
     "data": {
      "text/plain": [
       "<matplotlib.legend.Legend at 0x1e1917d7070>"
      ]
     },
     "execution_count": 50,
     "metadata": {},
     "output_type": "execute_result"
    },
    {
     "data": {
      "image/png": "[encoded data removed]",
      "text/plain": [
       "<Figure size 864x576 with 1 Axes>"
      ]
     },
     "metadata": {
      "needs_background": "light"
     },
     "output_type": "display_data"
    }
   ],
   "source": [
    "plt.figure(figsize=(12, 8))\n",
    "plt.plot(N, train_score.mean(axis=1), label='train score')\n",
    "plt.plot(N, val_score.mean(axis=1), label='validation score')\n",
    "plt.legend()\n",
    "    "
   ]
  },
  {
   "cell_type": "markdown",
   "metadata": {},
   "source": [
    "# Idees"
   ]
  },
  {
   "cell_type": "markdown",
   "metadata": {},
   "source": [
    " - Filtrer les communes pour garder seulement celles qui apparaissent plus de 10 fois \n",
    " - Importer les données des autres années et créer une colonne année -> ok\n",
    " - Optimiser les hyper-parametres avec GridSearchCV -> on obtient pas mieux que 75k de rmse malgré l'optimisation rapide des parametres, a continuer\n",
    " - Prendre les donnees de toute la région pas seulement Lille? -> meilleur resultat !\n",
    " "
   ]
  },
  {
   "cell_type": "code",
   "execution_count": null,
   "metadata": {},
   "outputs": [],
   "source": []
  },
  {
   "cell_type": "markdown",
   "metadata": {},
   "source": [
    "# Optimisation du modele"
   ]
  },
  {
   "cell_type": "code",
   "execution_count": 25,
   "metadata": {},
   "outputs": [],
   "source": [
    "from sklearn.model_selection import GridSearchCV, RandomizedSearchCV\n",
    "from sklearn.pipeline import make_pipeline\n",
    "from sklearn.feature_selection import SelectKBest, f_classif\n",
    "from sklearn.preprocessing import PolynomialFeatures, StandardScaler"
   ]
  },
  {
   "cell_type": "code",
   "execution_count": 226,
   "metadata": {},
   "outputs": [],
   "source": [
    "preprocessor = make_pipeline(PolynomialFeatures(2, include_bias=False), SelectKBest(f_classif, k=10))"
   ]
  },
  {
   "cell_type": "code",
   "execution_count": 105,
   "metadata": {},
   "outputs": [],
   "source": [
    "RandomForest = make_pipeline(preprocessor, RandomForestRegressor(random_state=0))\n"
   ]
  },
  {
   "cell_type": "code",
   "execution_count": 356,
   "metadata": {},
   "outputs": [],
   "source": [
    "hyper_params = {'randomforestregressor__n_estimators': [500,1000,1500,2000],\n",
    "                'randomforestregressor__max_features': ['sqrt'], \n",
    "                #'randomforestregressor__max_depth' : range(10,300),\n",
    "                'randomforestregressor__min_samples_split' : range(2,50),\n",
    "                'randomforestregressor__min_samples_leaf' : range(2,10),\n",
    "                #'randomforestregressor__max_leaf_nodes' : range(5,500),\n",
    "               'pipeline__polynomialfeatures__degree': [2,3],\n",
    "               'pipeline__selectkbest__k': range(6,15)\n",
    "               } \n",
    "\n",
    "                "
   ]
  },
  {
   "cell_type": "code",
   "execution_count": 357,
   "metadata": {},
   "outputs": [
    {
     "name": "stdout",
     "output_type": "stream",
     "text": [
      "{'randomforestregressor__n_estimators': 1500, 'randomforestregressor__min_samples_split': 7, 'randomforestregressor__min_samples_leaf': 5, 'randomforestregressor__max_features': 'sqrt', 'pipeline__selectkbest__k': 8, 'pipeline__polynomialfeatures__degree': 2}\n"
     ]
    }
   ],
   "source": [
    "grid = RandomizedSearchCV(RandomForest, hyper_params, scoring='neg_mean_squared_error', cv=2,\n",
    "                          n_iter=5)\n",
    "\n",
    "grid.fit(X_train, y_train)\n",
    "\n",
    "print(grid.best_params_)\n",
    "\n",
    "y_pred = grid.predict(X_test)\n",
    "\n"
   ]
  },
  {
   "cell_type": "code",
   "execution_count": 358,
   "metadata": {},
   "outputs": [
    {
     "data": {
      "text/plain": [
       "102400.45806572305"
      ]
     },
     "execution_count": 358,
     "metadata": {},
     "output_type": "execute_result"
    }
   ],
   "source": [
    "rmse = sqrt(mean_squared_error(y_test,y_pred))\n",
    "rmse"
   ]
  },
  {
   "cell_type": "code",
   "execution_count": 118,
   "metadata": {},
   "outputs": [],
   "source": [
    "model_f = grid #on garde le meilleur modele qu'on a pour le moment"
   ]
  },
  {
   "cell_type": "code",
   "execution_count": 236,
   "metadata": {},
   "outputs": [
    {
     "data": {
      "text/plain": [
       "RandomForestRegressor(random_state=0)"
      ]
     },
     "execution_count": 236,
     "metadata": {},
     "output_type": "execute_result"
    }
   ],
   "source": [
    "model"
   ]
  },
  {
   "cell_type": "code",
   "execution_count": 61,
   "metadata": {},
   "outputs": [],
   "source": [
    "from sklearn.metrics import SCORERS"
   ]
  },
  {
   "cell_type": "code",
   "execution_count": 62,
   "metadata": {},
   "outputs": [
    {
     "data": {
      "text/plain": [
       "dict_keys(['explained_variance', 'r2', 'max_error', 'neg_median_absolute_error', 'neg_mean_absolute_error', 'neg_mean_squared_error', 'neg_mean_squared_log_error', 'neg_root_mean_squared_error', 'neg_mean_poisson_deviance', 'neg_mean_gamma_deviance', 'accuracy', 'roc_auc', 'roc_auc_ovr', 'roc_auc_ovo', 'roc_auc_ovr_weighted', 'roc_auc_ovo_weighted', 'balanced_accuracy', 'average_precision', 'neg_log_loss', 'neg_brier_score', 'adjusted_rand_score', 'homogeneity_score', 'completeness_score', 'v_measure_score', 'mutual_info_score', 'adjusted_mutual_info_score', 'normalized_mutual_info_score', 'fowlkes_mallows_score', 'precision', 'precision_macro', 'precision_micro', 'precision_samples', 'precision_weighted', 'recall', 'recall_macro', 'recall_micro', 'recall_samples', 'recall_weighted', 'f1', 'f1_macro', 'f1_micro', 'f1_samples', 'f1_weighted', 'jaccard', 'jaccard_macro', 'jaccard_micro', 'jaccard_samples', 'jaccard_weighted'])"
      ]
     },
     "execution_count": 62,
     "metadata": {},
     "output_type": "execute_result"
    }
   ],
   "source": [
    "SCORERS.keys()"
   ]
  },
  {
   "cell_type": "code",
   "execution_count": 71,
   "metadata": {},
   "outputs": [
    {
     "data": {
      "text/plain": [
       "dict_keys(['memory', 'steps', 'verbose', 'pipeline', 'randomforestregressor', 'pipeline__memory', 'pipeline__steps', 'pipeline__verbose', 'pipeline__polynomialfeatures', 'pipeline__selectkbest', 'pipeline__polynomialfeatures__degree', 'pipeline__polynomialfeatures__include_bias', 'pipeline__polynomialfeatures__interaction_only', 'pipeline__polynomialfeatures__order', 'pipeline__selectkbest__k', 'pipeline__selectkbest__score_func', 'randomforestregressor__bootstrap', 'randomforestregressor__ccp_alpha', 'randomforestregressor__criterion', 'randomforestregressor__max_depth', 'randomforestregressor__max_features', 'randomforestregressor__max_leaf_nodes', 'randomforestregressor__max_samples', 'randomforestregressor__min_impurity_decrease', 'randomforestregressor__min_impurity_split', 'randomforestregressor__min_samples_leaf', 'randomforestregressor__min_samples_split', 'randomforestregressor__min_weight_fraction_leaf', 'randomforestregressor__n_estimators', 'randomforestregressor__n_jobs', 'randomforestregressor__oob_score', 'randomforestregressor__random_state', 'randomforestregressor__verbose', 'randomforestregressor__warm_start'])"
      ]
     },
     "execution_count": 71,
     "metadata": {},
     "output_type": "execute_result"
    }
   ],
   "source": [
    "RandomForest.get_params().keys()"
   ]
  },
  {
   "cell_type": "markdown",
   "metadata": {},
   "source": [
    "{'randomforestregressor__n_estimators': 300, 'randomforestregressor__max_features': 'log2', 'pipeline__selectkbest__k': 6, 'pipeline__polynomialfeatures__degree': 1}\n",
    "78523.01169128284\n",
    "{'randomforestregressor__n_estimators': 1000, 'randomforestregressor__max_features': 'sqrt', 'pipeline__selectkbest__k': 7, 'pipeline__polynomialfeatures__degree': 2}\n",
    "75885.78347177772"
   ]
  },
  {
   "cell_type": "code",
   "execution_count": 35,
   "metadata": {},
   "outputs": [
    {
     "data": {
      "text/plain": [
       "69095.03336081469"
      ]
     },
     "execution_count": 35,
     "metadata": {},
     "output_type": "execute_result"
    }
   ],
   "source": [
    "preprocessor = make_pipeline(PolynomialFeatures(degree=2, include_bias=False), SelectKBest(f_classif, k=7))\n",
    "model_f = make_pipeline(preprocessor, RandomForestRegressor(random_state=0,n_estimators=90,max_features='sqrt',min_samples_split=3,max_depth=26 ) )\n",
    "\n",
    "model_f.fit(X_train, y_train)\n",
    "y_pred = model_f.predict(X_test)\n",
    "rmse = sqrt(mean_squared_error(y_test,y_pred))\n",
    "rmse"
   ]
  },
  {
   "cell_type": "code",
   "execution_count": 36,
   "metadata": {},
   "outputs": [
    {
     "data": {
      "text/plain": [
       "28.827079365323343"
      ]
     },
     "execution_count": 36,
     "metadata": {},
     "output_type": "execute_result"
    }
   ],
   "source": [
    "(rmse/y_test.mean()) * 100\n"
   ]
  },
  {
   "cell_type": "code",
   "execution_count": 38,
   "metadata": {},
   "outputs": [
    {
     "data": {
      "text/plain": [
       "<matplotlib.legend.Legend at 0x13f25aee0d0>"
      ]
     },
     "execution_count": 38,
     "metadata": {},
     "output_type": "execute_result"
    },
    {
     "data": {
      "image/png": "[encoded data removed]",
      "text/plain": [
       "<Figure size 864x576 with 1 Axes>"
      ]
     },
     "metadata": {
      "needs_background": "light"
     },
     "output_type": "display_data"
    }
   ],
   "source": [
    "N, train_score, val_score = learning_curve(model_f, X_train, y_train,\n",
    "                                              cv=4, scoring='neg_mean_squared_error',\n",
    "                                               train_sizes=np.linspace(0.1, 1, 10))\n",
    "plt.figure(figsize=(12, 8))\n",
    "plt.plot(N, train_score.mean(axis=1), label='train score')\n",
    "plt.plot(N, val_score.mean(axis=1), label='validation score')\n",
    "plt.legend()\n"
   ]
  },
  {
   "cell_type": "markdown",
   "metadata": {},
   "source": [
    "On arrive pas a avoir un modele avec un rmse mieux que 75k ce qui est pas mal mais pas assez bon, on va alors essayer d'optimiser un modele de regressionlineaire"
   ]
  },
  {
   "cell_type": "code",
   "execution_count": 213,
   "metadata": {},
   "outputs": [
    {
     "data": {
      "text/plain": [
       "<matplotlib.legend.Legend at 0x1e1ebf6a9a0>"
      ]
     },
     "execution_count": 213,
     "metadata": {},
     "output_type": "execute_result"
    },
    {
     "data": {
      "image/png": "[encoded data removed]",
      "text/plain": [
       "<Figure size 864x576 with 1 Axes>"
      ]
     },
     "metadata": {
      "needs_background": "light"
     },
     "output_type": "display_data"
    }
   ],
   "source": [
    "N, train_score, val_score = learning_curve(model_f, X_train, y_train,\n",
    "                                              cv=4, scoring='neg_mean_squared_error',\n",
    "                                               train_sizes=np.linspace(0.1, 1, 10))\n",
    "plt.figure(figsize=(12, 8))\n",
    "plt.plot(N, train_score.mean(axis=1), label='train score')\n",
    "plt.plot(N, val_score.mean(axis=1), label='validation score')\n",
    "plt.legend()\n",
    "    "
   ]
  },
  {
   "cell_type": "code",
   "execution_count": null,
   "metadata": {},
   "outputs": [],
   "source": []
  },
  {
   "cell_type": "markdown",
   "metadata": {},
   "source": [
    "# Optimisation du modele LinearRegression"
   ]
  },
  {
   "cell_type": "code",
   "execution_count": 382,
   "metadata": {},
   "outputs": [],
   "source": [
    "preprocessor = make_pipeline(PolynomialFeatures(2, include_bias=False), SelectKBest(f_classif, k=10))\n",
    "LinearRegr = make_pipeline(preprocessor,StandardScaler(), LinearRegression())\n",
    "\n"
   ]
  },
  {
   "cell_type": "code",
   "execution_count": 373,
   "metadata": {},
   "outputs": [],
   "source": [
    "hyper_params = {'linearregression__normalize' : [True,False],\n",
    "               'pipeline__polynomialfeatures__degree': range(10),\n",
    "               'pipeline__selectkbest__k': range(6,15)\n",
    "               } "
   ]
  },
  {
   "cell_type": "code",
   "execution_count": 374,
   "metadata": {},
   "outputs": [
    {
     "name": "stdout",
     "output_type": "stream",
     "text": [
      "{'pipeline__selectkbest__k': 12, 'pipeline__polynomialfeatures__degree': 2, 'linearregression__normalize': True}\n"
     ]
    }
   ],
   "source": [
    "grid = RandomizedSearchCV(LinearRegr, hyper_params, scoring='neg_mean_squared_error', cv=4,\n",
    "                          n_iter=5)\n",
    "\n",
    "grid.fit(X_train, y_train)\n",
    "\n",
    "print(grid.best_params_)\n",
    "\n",
    "y_pred = grid.predict(X_test)\n",
    "\n"
   ]
  },
  {
   "cell_type": "code",
   "execution_count": 375,
   "metadata": {},
   "outputs": [
    {
     "data": {
      "text/plain": [
       "173975.19171605585"
      ]
     },
     "execution_count": 375,
     "metadata": {},
     "output_type": "execute_result"
    }
   ],
   "source": [
    "rmse = sqrt(mean_squared_error(y_test,y_pred))\n",
    "rmse"
   ]
  },
  {
   "cell_type": "code",
   "execution_count": null,
   "metadata": {},
   "outputs": [],
   "source": [
    "preprocessor = make_pipeline(PolynomialFeatures(degree=2, include_bias=False) )\n",
    "model_f = make_pipeline(preprocessor,StandardScaler(), LinearRegression() )\n",
    "\n",
    "model_f.fit(X_train, y_train)\n",
    "y_pred = model_f.predict(X_test)\n",
    "rmse = sqrt(mean_squared_error(y_test,y_pred))\n",
    "rmse"
   ]
  },
  {
   "cell_type": "code",
   "execution_count": null,
   "metadata": {},
   "outputs": [],
   "source": [
    "model_f.predict()"
   ]
  },
  {
   "cell_type": "code",
   "execution_count": 413,
   "metadata": {},
   "outputs": [
    {
     "data": {
      "text/plain": [
       "663      700000.0\n",
       "3019     266000.0\n",
       "10688    115000.0\n",
       "11953    280000.0\n",
       "9770     170900.0\n",
       "           ...   \n",
       "7953     203275.0\n",
       "8606     127000.0\n",
       "6848     240000.0\n",
       "1351     117000.0\n",
       "6491     115000.0\n",
       "Name: Valeur fonciere, Length: 2871, dtype: float64"
      ]
     },
     "execution_count": 413,
     "metadata": {},
     "output_type": "execute_result"
    }
   ],
   "source": [
    "y_test"
   ]
  },
  {
   "cell_type": "code",
   "execution_count": 109,
   "metadata": {},
   "outputs": [
    {
     "data": {
      "text/plain": [
       "<matplotlib.legend.Legend at 0x13f2374faf0>"
      ]
     },
     "execution_count": 109,
     "metadata": {},
     "output_type": "execute_result"
    },
    {
     "data": {
      "image/png": "[encoded data removed]",
      "text/plain": [
       "<Figure size 1440x720 with 1 Axes>"
      ]
     },
     "metadata": {
      "needs_background": "light"
     },
     "output_type": "display_data"
    }
   ],
   "source": [
    "plt.figure(figsize=(20,10))\n",
    "\n",
    "plt.scatter(x=np.linspace(1,30,30),y=y_test[20:50],label='valeur',c='r')\n",
    "plt.scatter(x=np.linspace(1,30,30),y=y_pred[20:50],label='prediction',c='b')\n",
    "plt.legend()"
   ]
  },
  {
   "cell_type": "code",
   "execution_count": 110,
   "metadata": {},
   "outputs": [
    {
     "data": {
      "text/plain": [
       "<matplotlib.legend.Legend at 0x13f2377b190>"
      ]
     },
     "execution_count": 110,
     "metadata": {},
     "output_type": "execute_result"
    },
    {
     "data": {
      "image/png": "[encoded data removed]",
      "text/plain": [
       "<Figure size 432x288 with 1 Axes>"
      ]
     },
     "metadata": {
      "needs_background": "light"
     },
     "output_type": "display_data"
    }
   ],
   "source": [
    "plt.scatter(x=np.linspace(1,100,100),y=abs(y_test[:100]-y_pred[:100]),label='erreur',c='r')\n",
    "plt.legend()"
   ]
  },
  {
   "cell_type": "code",
   "execution_count": 608,
   "metadata": {},
   "outputs": [
    {
     "data": {
      "text/plain": [
       "<matplotlib.legend.Legend at 0x1e241872250>"
      ]
     },
     "execution_count": 608,
     "metadata": {},
     "output_type": "execute_result"
    },
    {
     "data": {
      "image/png": "[encoded data removed]",
      "text/plain": [
       "<Figure size 432x288 with 1 Axes>"
      ]
     },
     "metadata": {
      "needs_background": "light"
     },
     "output_type": "display_data"
    }
   ],
   "source": [
    "plt.scatter(x=np.linspace(1,1,1),y=abs(y_test[96:97]-y_pred[96:97]),label='erreur',c='r')\n",
    "plt.legend()\n",
    "#on voit que la valeur a l index 97 a une erreur de quasi 500k ce qui est enorme, on va essayer de la visualier pour comprendre d'ou vient cet ecart"
   ]
  },
  {
   "cell_type": "code",
   "execution_count": 610,
   "metadata": {},
   "outputs": [
    {
     "data": {
      "text/html": [
       "<div>\n",
       "<style scoped>\n",
       "    .dataframe tbody tr th:only-of-type {\n",
       "        vertical-align: middle;\n",
       "    }\n",
       "\n",
       "    .dataframe tbody tr th {\n",
       "        vertical-align: top;\n",
       "    }\n",
       "\n",
       "    .dataframe thead th {\n",
       "        text-align: right;\n",
       "    }\n",
       "</style>\n",
       "<table border=\"1\" class=\"dataframe\">\n",
       "  <thead>\n",
       "    <tr style=\"text-align: right;\">\n",
       "      <th></th>\n",
       "      <th>Code postal</th>\n",
       "      <th>Surface reelle bati</th>\n",
       "      <th>Nombre pieces principales</th>\n",
       "      <th>Voie_0</th>\n",
       "      <th>Type de voie_0</th>\n",
       "      <th>Mois</th>\n",
       "      <th>Annee</th>\n",
       "      <th>Commune_0</th>\n",
       "    </tr>\n",
       "  </thead>\n",
       "  <tbody>\n",
       "    <tr>\n",
       "      <th>7063</th>\n",
       "      <td>59800.0</td>\n",
       "      <td>12.0</td>\n",
       "      <td>1.0</td>\n",
       "      <td>276.0</td>\n",
       "      <td>25.0</td>\n",
       "      <td>1</td>\n",
       "      <td>2019</td>\n",
       "      <td>124.0</td>\n",
       "    </tr>\n",
       "  </tbody>\n",
       "</table>\n",
       "</div>"
      ],
      "text/plain": [
       "      Code postal  Surface reelle bati  Nombre pieces principales  Voie_0  \\\n",
       "7063      59800.0                 12.0                        1.0   276.0   \n",
       "\n",
       "      Type de voie_0  Mois  Annee  Commune_0  \n",
       "7063            25.0     1   2019      124.0  "
      ]
     },
     "execution_count": 610,
     "metadata": {},
     "output_type": "execute_result"
    }
   ],
   "source": [
    "X_test[96:97]"
   ]
  },
  {
   "cell_type": "code",
   "execution_count": 461,
   "metadata": {},
   "outputs": [
    {
     "data": {
      "text/plain": [
       "10023    695000.0\n",
       "Name: Valeur fonciere, dtype: float64"
      ]
     },
     "execution_count": 461,
     "metadata": {},
     "output_type": "execute_result"
    }
   ],
   "source": [
    "y_test[96:97]"
   ]
  },
  {
   "cell_type": "code",
   "execution_count": 462,
   "metadata": {},
   "outputs": [
    {
     "data": {
      "text/plain": [
       "array([210819.35628558])"
      ]
     },
     "execution_count": 462,
     "metadata": {},
     "output_type": "execute_result"
    }
   ],
   "source": [
    "y_pred[96:97]"
   ]
  },
  {
   "cell_type": "markdown",
   "metadata": {},
   "source": [
    "- Recuperer les donnees ou le modele se trompe beaucoup pour essayer de comprendre pourquoi\n",
    "- Retirer les outliers"
   ]
  },
  {
   "cell_type": "code",
   "execution_count": 467,
   "metadata": {},
   "outputs": [
    {
     "data": {
      "text/plain": [
       "261785.41288591805"
      ]
     },
     "execution_count": 467,
     "metadata": {},
     "output_type": "execute_result"
    }
   ],
   "source": [
    "df[df['Type de voie_0']==25]['Valeur fonciere'].mean()"
   ]
  },
  {
   "cell_type": "code",
   "execution_count": 468,
   "metadata": {},
   "outputs": [
    {
     "data": {
      "text/plain": [
       "262120.18909971448"
      ]
     },
     "execution_count": 468,
     "metadata": {},
     "output_type": "execute_result"
    }
   ],
   "source": [
    "df['Valeur fonciere'].mean()"
   ]
  },
  {
   "cell_type": "markdown",
   "metadata": {},
   "source": [
    "On constate que l'écart ne semble pas venir du type de voie, on continue nos recherches"
   ]
  },
  {
   "cell_type": "code",
   "execution_count": 485,
   "metadata": {},
   "outputs": [
    {
     "data": {
      "text/plain": [
       "258298.89574155654"
      ]
     },
     "execution_count": 485,
     "metadata": {},
     "output_type": "execute_result"
    }
   ],
   "source": [
    "df[df['Code postal']==59100]['Valeur fonciere'].mean()"
   ]
  },
  {
   "cell_type": "code",
   "execution_count": 611,
   "metadata": {},
   "outputs": [
    {
     "data": {
      "text/plain": [
       "<matplotlib.legend.Legend at 0x1e23ef9f190>"
      ]
     },
     "execution_count": 611,
     "metadata": {},
     "output_type": "execute_result"
    },
    {
     "data": {
      "image/png": "[encoded data removed]",
      "text/plain": [
       "<Figure size 432x288 with 1 Axes>"
      ]
     },
     "metadata": {
      "needs_background": "light"
     },
     "output_type": "display_data"
    }
   ],
   "source": [
    "plt.scatter(x=np.linspace(1,1,1),y=abs(y_test[99:100]-y_pred[99:100]),label='erreur',c='r')\n",
    "plt.legend() "
   ]
  },
  {
   "cell_type": "code",
   "execution_count": 473,
   "metadata": {},
   "outputs": [],
   "source": [
    "#valeur a l'index 99 erreur de 330k on va comparer les deux erreurs"
   ]
  },
  {
   "cell_type": "code",
   "execution_count": 474,
   "metadata": {},
   "outputs": [
    {
     "data": {
      "text/html": [
       "<div>\n",
       "<style scoped>\n",
       "    .dataframe tbody tr th:only-of-type {\n",
       "        vertical-align: middle;\n",
       "    }\n",
       "\n",
       "    .dataframe tbody tr th {\n",
       "        vertical-align: top;\n",
       "    }\n",
       "\n",
       "    .dataframe thead th {\n",
       "        text-align: right;\n",
       "    }\n",
       "</style>\n",
       "<table border=\"1\" class=\"dataframe\">\n",
       "  <thead>\n",
       "    <tr style=\"text-align: right;\">\n",
       "      <th></th>\n",
       "      <th>No disposition</th>\n",
       "      <th>Code postal</th>\n",
       "      <th>Surface reelle bati</th>\n",
       "      <th>Nombre pieces principales</th>\n",
       "      <th>Voie_0</th>\n",
       "      <th>Type de voie_0</th>\n",
       "      <th>Mois</th>\n",
       "      <th>Annee</th>\n",
       "      <th>Commune_0</th>\n",
       "    </tr>\n",
       "  </thead>\n",
       "  <tbody>\n",
       "    <tr>\n",
       "      <th>9188</th>\n",
       "      <td>1</td>\n",
       "      <td>59800.0</td>\n",
       "      <td>38.0</td>\n",
       "      <td>2.0</td>\n",
       "      <td>1671.0</td>\n",
       "      <td>1.0</td>\n",
       "      <td>10</td>\n",
       "      <td>2019</td>\n",
       "      <td>124.0</td>\n",
       "    </tr>\n",
       "  </tbody>\n",
       "</table>\n",
       "</div>"
      ],
      "text/plain": [
       "      No disposition  Code postal  Surface reelle bati  \\\n",
       "9188               1      59800.0                 38.0   \n",
       "\n",
       "      Nombre pieces principales  Voie_0  Type de voie_0  Mois  Annee  \\\n",
       "9188                        2.0  1671.0             1.0    10   2019   \n",
       "\n",
       "      Commune_0  \n",
       "9188      124.0  "
      ]
     },
     "execution_count": 474,
     "metadata": {},
     "output_type": "execute_result"
    }
   ],
   "source": [
    "X_test[99:100]"
   ]
  },
  {
   "cell_type": "code",
   "execution_count": 475,
   "metadata": {},
   "outputs": [
    {
     "data": {
      "text/plain": [
       "9188    138800.0\n",
       "Name: Valeur fonciere, dtype: float64"
      ]
     },
     "execution_count": 475,
     "metadata": {},
     "output_type": "execute_result"
    }
   ],
   "source": [
    "y_test[99:100]"
   ]
  },
  {
   "cell_type": "code",
   "execution_count": 476,
   "metadata": {},
   "outputs": [
    {
     "data": {
      "text/plain": [
       "array([472178.55221281])"
      ]
     },
     "execution_count": 476,
     "metadata": {},
     "output_type": "execute_result"
    }
   ],
   "source": [
    "y_pred[99:100]"
   ]
  },
  {
   "cell_type": "markdown",
   "metadata": {},
   "source": [
    "Ces deux cas sont très differents car une fois la modele a surévalué le bien et une fois il l'a sous evalue"
   ]
  },
  {
   "cell_type": "code",
   "execution_count": 481,
   "metadata": {},
   "outputs": [
    {
     "data": {
      "text/plain": [
       "252261.61322088816"
      ]
     },
     "execution_count": 481,
     "metadata": {},
     "output_type": "execute_result"
    }
   ],
   "source": [
    "df[df['Nombre pieces principales']==2]['Valeur fonciere'].mean()"
   ]
  },
  {
   "cell_type": "markdown",
   "metadata": {},
   "source": [
    "Difficile de comprendre d'ou vient l'erreur car aucun parametres ne presente une valeur moyenne aberrante..."
   ]
  },
  {
   "cell_type": "code",
   "execution_count": 486,
   "metadata": {},
   "outputs": [
    {
     "data": {
      "text/html": [
       "<div>\n",
       "<style scoped>\n",
       "    .dataframe tbody tr th:only-of-type {\n",
       "        vertical-align: middle;\n",
       "    }\n",
       "\n",
       "    .dataframe tbody tr th {\n",
       "        vertical-align: top;\n",
       "    }\n",
       "\n",
       "    .dataframe thead th {\n",
       "        text-align: right;\n",
       "    }\n",
       "</style>\n",
       "<table border=\"1\" class=\"dataframe\">\n",
       "  <thead>\n",
       "    <tr style=\"text-align: right;\">\n",
       "      <th></th>\n",
       "      <th>No disposition</th>\n",
       "      <th>Valeur fonciere</th>\n",
       "      <th>Code postal</th>\n",
       "      <th>Surface reelle bati</th>\n",
       "      <th>Nombre pieces principales</th>\n",
       "      <th>Voie_0</th>\n",
       "      <th>Type de voie_0</th>\n",
       "      <th>Mois</th>\n",
       "      <th>Annee</th>\n",
       "      <th>Commune_0</th>\n",
       "    </tr>\n",
       "  </thead>\n",
       "  <tbody>\n",
       "    <tr>\n",
       "      <th>0</th>\n",
       "      <td>1</td>\n",
       "      <td>167900.0</td>\n",
       "      <td>59000.0</td>\n",
       "      <td>54.0</td>\n",
       "      <td>2.0</td>\n",
       "      <td>262.0</td>\n",
       "      <td>25.0</td>\n",
       "      <td>1</td>\n",
       "      <td>2018</td>\n",
       "      <td>124.0</td>\n",
       "    </tr>\n",
       "    <tr>\n",
       "      <th>1</th>\n",
       "      <td>1</td>\n",
       "      <td>121240.0</td>\n",
       "      <td>59110.0</td>\n",
       "      <td>47.0</td>\n",
       "      <td>2.0</td>\n",
       "      <td>18.0</td>\n",
       "      <td>1.0</td>\n",
       "      <td>1</td>\n",
       "      <td>2018</td>\n",
       "      <td>105.0</td>\n",
       "    </tr>\n",
       "    <tr>\n",
       "      <th>2</th>\n",
       "      <td>1</td>\n",
       "      <td>173800.0</td>\n",
       "      <td>59110.0</td>\n",
       "      <td>50.0</td>\n",
       "      <td>2.0</td>\n",
       "      <td>1536.0</td>\n",
       "      <td>25.0</td>\n",
       "      <td>1</td>\n",
       "      <td>2018</td>\n",
       "      <td>105.0</td>\n",
       "    </tr>\n",
       "    <tr>\n",
       "      <th>3</th>\n",
       "      <td>1</td>\n",
       "      <td>167500.0</td>\n",
       "      <td>59260.0</td>\n",
       "      <td>55.0</td>\n",
       "      <td>3.0</td>\n",
       "      <td>888.0</td>\n",
       "      <td>25.0</td>\n",
       "      <td>1</td>\n",
       "      <td>2018</td>\n",
       "      <td>124.0</td>\n",
       "    </tr>\n",
       "    <tr>\n",
       "      <th>4</th>\n",
       "      <td>1</td>\n",
       "      <td>167500.0</td>\n",
       "      <td>59260.0</td>\n",
       "      <td>20.0</td>\n",
       "      <td>1.0</td>\n",
       "      <td>888.0</td>\n",
       "      <td>25.0</td>\n",
       "      <td>1</td>\n",
       "      <td>2018</td>\n",
       "      <td>124.0</td>\n",
       "    </tr>\n",
       "    <tr>\n",
       "      <th>...</th>\n",
       "      <td>...</td>\n",
       "      <td>...</td>\n",
       "      <td>...</td>\n",
       "      <td>...</td>\n",
       "      <td>...</td>\n",
       "      <td>...</td>\n",
       "      <td>...</td>\n",
       "      <td>...</td>\n",
       "      <td>...</td>\n",
       "      <td>...</td>\n",
       "    </tr>\n",
       "    <tr>\n",
       "      <th>14346</th>\n",
       "      <td>1</td>\n",
       "      <td>220000.0</td>\n",
       "      <td>59300.0</td>\n",
       "      <td>17.0</td>\n",
       "      <td>1.0</td>\n",
       "      <td>377.0</td>\n",
       "      <td>25.0</td>\n",
       "      <td>12</td>\n",
       "      <td>2019</td>\n",
       "      <td>212.0</td>\n",
       "    </tr>\n",
       "    <tr>\n",
       "      <th>14347</th>\n",
       "      <td>1</td>\n",
       "      <td>220000.0</td>\n",
       "      <td>59300.0</td>\n",
       "      <td>18.0</td>\n",
       "      <td>1.0</td>\n",
       "      <td>377.0</td>\n",
       "      <td>25.0</td>\n",
       "      <td>12</td>\n",
       "      <td>2019</td>\n",
       "      <td>212.0</td>\n",
       "    </tr>\n",
       "    <tr>\n",
       "      <th>14348</th>\n",
       "      <td>1</td>\n",
       "      <td>319000.0</td>\n",
       "      <td>59300.0</td>\n",
       "      <td>74.0</td>\n",
       "      <td>3.0</td>\n",
       "      <td>1078.0</td>\n",
       "      <td>25.0</td>\n",
       "      <td>12</td>\n",
       "      <td>2019</td>\n",
       "      <td>212.0</td>\n",
       "    </tr>\n",
       "    <tr>\n",
       "      <th>14349</th>\n",
       "      <td>1</td>\n",
       "      <td>319000.0</td>\n",
       "      <td>59300.0</td>\n",
       "      <td>49.0</td>\n",
       "      <td>2.0</td>\n",
       "      <td>1078.0</td>\n",
       "      <td>25.0</td>\n",
       "      <td>12</td>\n",
       "      <td>2019</td>\n",
       "      <td>212.0</td>\n",
       "    </tr>\n",
       "    <tr>\n",
       "      <th>14350</th>\n",
       "      <td>1</td>\n",
       "      <td>154700.0</td>\n",
       "      <td>59300.0</td>\n",
       "      <td>44.0</td>\n",
       "      <td>2.0</td>\n",
       "      <td>960.0</td>\n",
       "      <td>19.0</td>\n",
       "      <td>12</td>\n",
       "      <td>2019</td>\n",
       "      <td>212.0</td>\n",
       "    </tr>\n",
       "  </tbody>\n",
       "</table>\n",
       "<p>13540 rows × 10 columns</p>\n",
       "</div>"
      ],
      "text/plain": [
       "       No disposition  Valeur fonciere  Code postal  Surface reelle bati  \\\n",
       "0                   1         167900.0      59000.0                 54.0   \n",
       "1                   1         121240.0      59110.0                 47.0   \n",
       "2                   1         173800.0      59110.0                 50.0   \n",
       "3                   1         167500.0      59260.0                 55.0   \n",
       "4                   1         167500.0      59260.0                 20.0   \n",
       "...               ...              ...          ...                  ...   \n",
       "14346               1         220000.0      59300.0                 17.0   \n",
       "14347               1         220000.0      59300.0                 18.0   \n",
       "14348               1         319000.0      59300.0                 74.0   \n",
       "14349               1         319000.0      59300.0                 49.0   \n",
       "14350               1         154700.0      59300.0                 44.0   \n",
       "\n",
       "       Nombre pieces principales  Voie_0  Type de voie_0  Mois  Annee  \\\n",
       "0                            2.0   262.0            25.0     1   2018   \n",
       "1                            2.0    18.0             1.0     1   2018   \n",
       "2                            2.0  1536.0            25.0     1   2018   \n",
       "3                            3.0   888.0            25.0     1   2018   \n",
       "4                            1.0   888.0            25.0     1   2018   \n",
       "...                          ...     ...             ...   ...    ...   \n",
       "14346                        1.0   377.0            25.0    12   2019   \n",
       "14347                        1.0   377.0            25.0    12   2019   \n",
       "14348                        3.0  1078.0            25.0    12   2019   \n",
       "14349                        2.0  1078.0            25.0    12   2019   \n",
       "14350                        2.0   960.0            19.0    12   2019   \n",
       "\n",
       "       Commune_0  \n",
       "0          124.0  \n",
       "1          105.0  \n",
       "2          105.0  \n",
       "3          124.0  \n",
       "4          124.0  \n",
       "...          ...  \n",
       "14346      212.0  \n",
       "14347      212.0  \n",
       "14348      212.0  \n",
       "14349      212.0  \n",
       "14350      212.0  \n",
       "\n",
       "[13540 rows x 10 columns]"
      ]
     },
     "execution_count": 486,
     "metadata": {},
     "output_type": "execute_result"
    }
   ],
   "source": [
    "from scipy import stats\n",
    "df[(np.abs(stats.zscore(df)) < 3).all(axis=1)] #pour filtrer les outliers selon le score Z(calculer avec moyenne et ecart type)"
   ]
  },
  {
   "cell_type": "code",
   "execution_count": 44,
   "metadata": {},
   "outputs": [
    {
     "data": {
      "text/plain": [
       "64721.77010001607"
      ]
     },
     "execution_count": 44,
     "metadata": {},
     "output_type": "execute_result"
    }
   ],
   "source": [
    "preprocessor = make_pipeline(PolynomialFeatures(degree=2, include_bias=False), SelectKBest(f_classif, k=7))\n",
    "model_f = make_pipeline(preprocessor, RandomForestRegressor(random_state=0,n_estimators=90,max_features='sqrt',min_samples_split=3,max_depth=26, bootstrap='True' ) )\n",
    "\n",
    "model_f.fit(X_train, y_train)\n",
    "y_pred = model_f.predict(X_test)\n",
    "rmse = sqrt(mean_squared_error(y_test,y_pred))\n",
    "rmse\n"
   ]
  },
  {
   "cell_type": "code",
   "execution_count": 45,
   "metadata": {},
   "outputs": [
    {
     "data": {
      "text/plain": [
       "26.940009957700955"
      ]
     },
     "execution_count": 45,
     "metadata": {},
     "output_type": "execute_result"
    }
   ],
   "source": [
    "(rmse/y_test.mean()) * 100\n"
   ]
  },
  {
   "cell_type": "code",
   "execution_count": 46,
   "metadata": {},
   "outputs": [
    {
     "data": {
      "text/plain": [
       "<matplotlib.legend.Legend at 0x13f25a4c850>"
      ]
     },
     "execution_count": 46,
     "metadata": {},
     "output_type": "execute_result"
    },
    {
     "data": {
      "image/png": "[encoded data removed]",
      "text/plain": [
       "<Figure size 864x576 with 1 Axes>"
      ]
     },
     "metadata": {
      "needs_background": "light"
     },
     "output_type": "display_data"
    }
   ],
   "source": [
    "N, train_score, val_score = learning_curve(model_f, X_train, y_train,\n",
    "                                              cv=4, scoring='neg_mean_squared_error',\n",
    "                                               train_sizes=np.linspace(0.1, 1, 10))\n",
    "plt.figure(figsize=(12, 8))\n",
    "plt.plot(N, train_score.mean(axis=1), label='train score')\n",
    "plt.plot(N, val_score.mean(axis=1), label='validation score')\n",
    "plt.legend()"
   ]
  },
  {
   "cell_type": "code",
   "execution_count": null,
   "metadata": {},
   "outputs": [],
   "source": [
    "#avec les donnees de 2017"
   ]
  },
  {
   "cell_type": "code",
   "execution_count": 84,
   "metadata": {},
   "outputs": [
    {
     "data": {
      "text/plain": [
       "70093.47618820249"
      ]
     },
     "execution_count": 84,
     "metadata": {},
     "output_type": "execute_result"
    }
   ],
   "source": [
    "preprocessor = make_pipeline(PolynomialFeatures(degree=2, include_bias=False), SelectKBest(f_classif, k=7))\n",
    "model_f = make_pipeline(preprocessor, RandomForestRegressor(random_state=0,n_estimators=90,max_features='sqrt',min_samples_split=3,max_depth=80, bootstrap='True' ) )\n",
    "\n",
    "model_f.fit(X_train, y_train)\n",
    "y_pred = model_f.predict(X_test)\n",
    "rmse = sqrt(mean_squared_error(y_test,y_pred))\n",
    "rmse"
   ]
  },
  {
   "cell_type": "code",
   "execution_count": 83,
   "metadata": {},
   "outputs": [
    {
     "data": {
      "text/plain": [
       "<matplotlib.legend.Legend at 0x1401bad1340>"
      ]
     },
     "execution_count": 83,
     "metadata": {},
     "output_type": "execute_result"
    },
    {
     "data": {
      "image/png": "[encoded data removed]",
      "text/plain": [
       "<Figure size 864x576 with 1 Axes>"
      ]
     },
     "metadata": {
      "needs_background": "light"
     },
     "output_type": "display_data"
    }
   ],
   "source": [
    "N, train_score, val_score = learning_curve(model_f, X_train, y_train,\n",
    "                                              cv=4, scoring='neg_mean_squared_error',\n",
    "                                               train_sizes=np.linspace(0.1, 1, 10))\n",
    "plt.figure(figsize=(12, 8))\n",
    "plt.plot(N, train_score.mean(axis=1), label='train score')\n",
    "plt.plot(N, val_score.mean(axis=1), label='validation score')\n",
    "plt.legend()"
   ]
  },
  {
   "cell_type": "code",
   "execution_count": null,
   "metadata": {},
   "outputs": [],
   "source": [
    "#avec les donnees de 2020 "
   ]
  },
  {
   "cell_type": "code",
   "execution_count": 50,
   "metadata": {},
   "outputs": [
    {
     "data": {
      "text/plain": [
       "97440.3491865793"
      ]
     },
     "execution_count": 50,
     "metadata": {},
     "output_type": "execute_result"
    }
   ],
   "source": [
    "preprocessor = make_pipeline(PolynomialFeatures(degree=2, include_bias=False), SelectKBest(f_classif, k=7))\n",
    "model_f = make_pipeline(preprocessor, RandomForestRegressor(random_state=0,n_estimators=90,max_features='sqrt',min_samples_split=3,max_depth=150, bootstrap='True' ) )\n",
    "\n",
    "model_f.fit(X_train, y_train)\n",
    "y_pred = model_f.predict(X_test)\n",
    "rmse = sqrt(mean_squared_error(y_test,y_pred))\n",
    "rmse"
   ]
  },
  {
   "cell_type": "code",
   "execution_count": 51,
   "metadata": {},
   "outputs": [
    {
     "data": {
      "text/plain": [
       "<matplotlib.legend.Legend at 0x1a8632d38b0>"
      ]
     },
     "execution_count": 51,
     "metadata": {},
     "output_type": "execute_result"
    },
    {
     "data": {
      "image/png": "[encoded data removed]",
      "text/plain": [
       "<Figure size 864x576 with 1 Axes>"
      ]
     },
     "metadata": {
      "needs_background": "light"
     },
     "output_type": "display_data"
    }
   ],
   "source": [
    "N, train_score, val_score = learning_curve(model_f, X_train, y_train,\n",
    "                                              cv=4, scoring='neg_mean_squared_error',\n",
    "                                               train_sizes=np.linspace(0.1, 1, 10))\n",
    "plt.figure(figsize=(12, 8))\n",
    "plt.plot(N, train_score.mean(axis=1), label='train score')\n",
    "plt.plot(N, val_score.mean(axis=1), label='validation score')\n",
    "plt.legend()"
   ]
  },
  {
   "cell_type": "markdown",
   "metadata": {},
   "source": [
    "On veut regarder combien de valeurs sont correctement estimées (on va dire à 20k pres)"
   ]
  },
  {
   "cell_type": "code",
   "execution_count": 113,
   "metadata": {},
   "outputs": [
    {
     "data": {
      "text/plain": [
       "61"
      ]
     },
     "execution_count": 113,
     "metadata": {},
     "output_type": "execute_result"
    }
   ],
   "source": [
    "sum(abs(y_test[:100]-y_pred[:100]) < 20000) #sur 100 valeurs, 61 sont prédites à 20k pres"
   ]
  },
  {
   "cell_type": "code",
   "execution_count": 117,
   "metadata": {},
   "outputs": [
    {
     "data": {
      "text/plain": [
       "58.10196870267542"
      ]
     },
     "execution_count": 117,
     "metadata": {},
     "output_type": "execute_result"
    }
   ],
   "source": [
    "(sum(abs(y_test-y_pred) < 20000)/y_test.shape[0])*100 #58% des valeurs prédites à 20k pres"
   ]
  },
  {
   "cell_type": "code",
   "execution_count": 118,
   "metadata": {},
   "outputs": [
    {
     "data": {
      "text/plain": [
       "77.3346794548208"
      ]
     },
     "execution_count": 118,
     "metadata": {},
     "output_type": "execute_result"
    }
   ],
   "source": [
    "(sum(abs(y_test-y_pred) < 50000)/y_test.shape[0])*100 #77% des valeurs sont prédites à 50k pres"
   ]
  },
  {
   "cell_type": "code",
   "execution_count": 119,
   "metadata": {},
   "outputs": [
    {
     "data": {
      "text/plain": [
       "45.17920242301868"
      ]
     },
     "execution_count": 119,
     "metadata": {},
     "output_type": "execute_result"
    }
   ],
   "source": [
    "(sum(abs(y_test-y_pred) < 10000)/y_test.shape[0])*100 #45% des valeurs sont prédites à 10k pres"
   ]
  },
  {
   "cell_type": "code",
   "execution_count": 120,
   "metadata": {},
   "outputs": [
    {
     "data": {
      "text/plain": [
       "90.50984351337709"
      ]
     },
     "execution_count": 120,
     "metadata": {},
     "output_type": "execute_result"
    }
   ],
   "source": [
    "(sum(abs(y_test-y_pred) < 100000)/y_test.shape[0])*100 #90% des valeurs sont prédites à 100k pres"
   ]
  },
  {
   "cell_type": "markdown",
   "metadata": {},
   "source": [
    "Même en filtrant les outliers on arrive pas à faire mieux sur notre modèle, donc on va essayer un autre modele "
   ]
  },
  {
   "cell_type": "code",
   "execution_count": 521,
   "metadata": {},
   "outputs": [
    {
     "data": {
      "text/plain": [
       "132628.7871686199"
      ]
     },
     "execution_count": 521,
     "metadata": {},
     "output_type": "execute_result"
    }
   ],
   "source": [
    "from sklearn.tree import DecisionTreeRegressor\n",
    "model = DecisionTreeRegressor()\n",
    "model.fit(X_train,y_train)\n",
    "y_pred = model.predict(X_test)\n",
    "rmse = sqrt(mean_squared_error(y_test,y_pred))\n",
    "rmse"
   ]
  },
  {
   "cell_type": "code",
   "execution_count": 522,
   "metadata": {},
   "outputs": [],
   "source": [
    "from sklearn import decomposition, datasets"
   ]
  },
  {
   "cell_type": "code",
   "execution_count": 523,
   "metadata": {},
   "outputs": [],
   "source": [
    "\n",
    "std_slc = StandardScaler()\n",
    "pca = decomposition.PCA()"
   ]
  },
  {
   "cell_type": "code",
   "execution_count": 525,
   "metadata": {},
   "outputs": [],
   "source": [
    "dec_tree = DecisionTreeRegressor()"
   ]
  },
  {
   "cell_type": "code",
   "execution_count": 528,
   "metadata": {},
   "outputs": [],
   "source": [
    "pipe = make_pipeline(std_slc, pca, dec_tree)"
   ]
  },
  {
   "cell_type": "code",
   "execution_count": 531,
   "metadata": {},
   "outputs": [],
   "source": []
  },
  {
   "cell_type": "code",
   "execution_count": 532,
   "metadata": {},
   "outputs": [],
   "source": []
  },
  {
   "cell_type": "code",
   "execution_count": 552,
   "metadata": {},
   "outputs": [],
   "source": []
  },
  {
   "cell_type": "code",
   "execution_count": null,
   "metadata": {},
   "outputs": [],
   "source": [
    "\n"
   ]
  },
  {
   "cell_type": "code",
   "execution_count": 561,
   "metadata": {},
   "outputs": [
    {
     "data": {
      "text/plain": [
       "133071.20396033453"
      ]
     },
     "execution_count": 561,
     "metadata": {},
     "output_type": "execute_result"
    }
   ],
   "source": [
    "preprocessor = make_pipeline(StandardScaler() )\n",
    "model_f = make_pipeline(preprocessor, DecisionTreeRegressor(random_state=0) )\n",
    "\n",
    "model_f.fit(X_train, y_train)\n",
    "y_pred = model_f.predict(X_test)\n",
    "rmse = sqrt(mean_squared_error(y_test,y_pred))\n",
    "rmse"
   ]
  },
  {
   "cell_type": "code",
   "execution_count": 545,
   "metadata": {},
   "outputs": [
    {
     "data": {
      "text/plain": [
       "{'memory': None,\n",
       " 'steps': [('standardscaler', StandardScaler()),\n",
       "  ('pca', PCA()),\n",
       "  ('decisiontreeregressor', DecisionTreeRegressor())],\n",
       " 'verbose': False,\n",
       " 'standardscaler': StandardScaler(),\n",
       " 'pca': PCA(),\n",
       " 'decisiontreeregressor': DecisionTreeRegressor(),\n",
       " 'standardscaler__copy': True,\n",
       " 'standardscaler__with_mean': True,\n",
       " 'standardscaler__with_std': True,\n",
       " 'pca__copy': True,\n",
       " 'pca__iterated_power': 'auto',\n",
       " 'pca__n_components': None,\n",
       " 'pca__random_state': None,\n",
       " 'pca__svd_solver': 'auto',\n",
       " 'pca__tol': 0.0,\n",
       " 'pca__whiten': False,\n",
       " 'decisiontreeregressor__ccp_alpha': 0.0,\n",
       " 'decisiontreeregressor__criterion': 'mse',\n",
       " 'decisiontreeregressor__max_depth': None,\n",
       " 'decisiontreeregressor__max_features': None,\n",
       " 'decisiontreeregressor__max_leaf_nodes': None,\n",
       " 'decisiontreeregressor__min_impurity_decrease': 0.0,\n",
       " 'decisiontreeregressor__min_impurity_split': None,\n",
       " 'decisiontreeregressor__min_samples_leaf': 1,\n",
       " 'decisiontreeregressor__min_samples_split': 2,\n",
       " 'decisiontreeregressor__min_weight_fraction_leaf': 0.0,\n",
       " 'decisiontreeregressor__presort': 'deprecated',\n",
       " 'decisiontreeregressor__random_state': None,\n",
       " 'decisiontreeregressor__splitter': 'best'}"
      ]
     },
     "execution_count": 545,
     "metadata": {},
     "output_type": "execute_result"
    }
   ],
   "source": [
    "pipe.get_params()"
   ]
  },
  {
   "cell_type": "code",
   "execution_count": 1,
   "metadata": {},
   "outputs": [
    {
     "ename": "NameError",
     "evalue": "name 'plt' is not defined",
     "output_type": "error",
     "traceback": [
      "\u001b[1;31m---------------------------------------------------------------------------\u001b[0m",
      "\u001b[1;31mNameError\u001b[0m                                 Traceback (most recent call last)",
      "\u001b[1;32m<ipython-input-1-ddd80662423b>\u001b[0m in \u001b[0;36m<module>\u001b[1;34m\u001b[0m\n\u001b[1;32m----> 1\u001b[1;33m \u001b[0mplt\u001b[0m\u001b[1;33m.\u001b[0m\u001b[0mboxplot\u001b[0m\u001b[1;33m(\u001b[0m\u001b[1;33m)\u001b[0m\u001b[1;33m\u001b[0m\u001b[1;33m\u001b[0m\u001b[0m\n\u001b[0m",
      "\u001b[1;31mNameError\u001b[0m: name 'plt' is not defined"
     ]
    }
   ],
   "source": [
    "plt.boxplot()"
   ]
  },
  {
   "cell_type": "code",
   "execution_count": null,
   "metadata": {},
   "outputs": [],
   "source": []
  }
 ],
 "metadata": {
  "kernelspec": {
   "display_name": "Python 3",
   "language": "python",
   "name": "python3"
  },
  "language_info": {
   "codemirror_mode": {
    "name": "ipython",
    "version": 3
   },
   "file_extension": ".py",
   "mimetype": "text/x-python",
   "name": "python",
   "nbconvert_exporter": "python",
   "pygments_lexer": "ipython3",
   "version": "3.8.5"
  }
 },
 "nbformat": 4,
 "nbformat_minor": 4
}
